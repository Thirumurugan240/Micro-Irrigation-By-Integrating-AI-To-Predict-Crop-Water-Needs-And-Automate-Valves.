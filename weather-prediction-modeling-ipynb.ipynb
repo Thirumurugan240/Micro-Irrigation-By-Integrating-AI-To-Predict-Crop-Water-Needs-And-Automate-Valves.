{
 "cells": [
  {
   "cell_type": "markdown",
   "id": "f5746dd9",
   "metadata": {
    "papermill": {
     "duration": 0.009733,
     "end_time": "2024-04-05T21:25:44.973928",
     "exception": false,
     "start_time": "2024-04-05T21:25:44.964195",
     "status": "completed"
    },
    "tags": []
   },
   "source": [
    "# Step 1: Import necessary libraries"
   ]
  },
  {
   "cell_type": "code",
   "execution_count": 1,
   "id": "37090fbd",
   "metadata": {
    "execution": {
     "iopub.execute_input": "2024-04-05T21:25:44.995104Z",
     "iopub.status.busy": "2024-04-05T21:25:44.994048Z",
     "iopub.status.idle": "2024-04-05T21:25:47.205035Z",
     "shell.execute_reply": "2024-04-05T21:25:47.204112Z"
    },
    "papermill": {
     "duration": 2.224294,
     "end_time": "2024-04-05T21:25:47.207645",
     "exception": false,
     "start_time": "2024-04-05T21:25:44.983351",
     "status": "completed"
    },
    "tags": []
   },
   "outputs": [],
   "source": [
    "import pandas as pd\n",
    "from sklearn.model_selection import train_test_split\n",
    "from sklearn.ensemble import RandomForestClassifier\n",
    "from sklearn.metrics import accuracy_score, classification_report"
   ]
  },
  {
   "cell_type": "markdown",
   "id": "b4ad02b6",
   "metadata": {
    "papermill": {
     "duration": 0.008802,
     "end_time": "2024-04-05T21:25:47.226024",
     "exception": false,
     "start_time": "2024-04-05T21:25:47.217222",
     "status": "completed"
    },
    "tags": []
   },
   "source": [
    "# Step 2: Load the datasets\n"
   ]
  },
  {
   "cell_type": "code",
   "execution_count": 2,
   "id": "4946440f",
   "metadata": {
    "execution": {
     "iopub.execute_input": "2024-04-05T21:25:47.247757Z",
     "iopub.status.busy": "2024-04-05T21:25:47.246930Z",
     "iopub.status.idle": "2024-04-05T21:25:47.406491Z",
     "shell.execute_reply": "2024-04-05T21:25:47.405460Z"
    },
    "papermill": {
     "duration": 0.173292,
     "end_time": "2024-04-05T21:25:47.408763",
     "exception": false,
     "start_time": "2024-04-05T21:25:47.235471",
     "status": "completed"
    },
    "tags": []
   },
   "outputs": [],
   "source": [
    "weather_data = pd.read_csv('weather_prediction_dataset.csv')\n",
    "bbq_labels = pd.read_csv('weather_prediction_bbq_labels.csv')"
   ]
  },
  {
   "cell_type": "markdown",
   "id": "bf37bcb2",
   "metadata": {
    "papermill": {
     "duration": 0.008698,
     "end_time": "2024-04-05T21:25:47.426796",
     "exception": false,
     "start_time": "2024-04-05T21:25:47.418098",
     "status": "completed"
    },
    "tags": []
   },
   "source": [
    "# # Step 3:show datasets"
   ]
  },
  {
   "cell_type": "code",
   "execution_count": 3,
   "id": "7143bb57",
   "metadata": {
    "execution": {
     "iopub.execute_input": "2024-04-05T21:25:47.446459Z",
     "iopub.status.busy": "2024-04-05T21:25:47.446075Z",
     "iopub.status.idle": "2024-04-05T21:25:47.482068Z",
     "shell.execute_reply": "2024-04-05T21:25:47.481143Z"
    },
    "papermill": {
     "duration": 0.049296,
     "end_time": "2024-04-05T21:25:47.485015",
     "exception": false,
     "start_time": "2024-04-05T21:25:47.435719",
     "status": "completed"
    },
    "tags": []
   },
   "outputs": [
    {
     "data": {
      "text/html": [
       "<div>\n",
       "<style scoped>\n",
       "    .dataframe tbody tr th:only-of-type {\n",
       "        vertical-align: middle;\n",
       "    }\n",
       "\n",
       "    .dataframe tbody tr th {\n",
       "        vertical-align: top;\n",
       "    }\n",
       "\n",
       "    .dataframe thead th {\n",
       "        text-align: right;\n",
       "    }\n",
       "</style>\n",
       "<table border=\"1\" class=\"dataframe\">\n",
       "  <thead>\n",
       "    <tr style=\"text-align: right;\">\n",
       "      <th></th>\n",
       "      <th>DATE</th>\n",
       "      <th>MONTH</th>\n",
       "      <th>BASEL_cloud_cover</th>\n",
       "      <th>BASEL_humidity</th>\n",
       "      <th>BASEL_pressure</th>\n",
       "      <th>BASEL_global_radiation</th>\n",
       "      <th>BASEL_precipitation</th>\n",
       "      <th>BASEL_sunshine</th>\n",
       "      <th>BASEL_temp_mean</th>\n",
       "      <th>BASEL_temp_min</th>\n",
       "      <th>...</th>\n",
       "      <th>STOCKHOLM_temp_min</th>\n",
       "      <th>STOCKHOLM_temp_max</th>\n",
       "      <th>TOURS_wind_speed</th>\n",
       "      <th>TOURS_humidity</th>\n",
       "      <th>TOURS_pressure</th>\n",
       "      <th>TOURS_global_radiation</th>\n",
       "      <th>TOURS_precipitation</th>\n",
       "      <th>TOURS_temp_mean</th>\n",
       "      <th>TOURS_temp_min</th>\n",
       "      <th>TOURS_temp_max</th>\n",
       "    </tr>\n",
       "  </thead>\n",
       "  <tbody>\n",
       "    <tr>\n",
       "      <th>0</th>\n",
       "      <td>20000101</td>\n",
       "      <td>1</td>\n",
       "      <td>8</td>\n",
       "      <td>0.89</td>\n",
       "      <td>1.0286</td>\n",
       "      <td>0.20</td>\n",
       "      <td>0.03</td>\n",
       "      <td>0.0</td>\n",
       "      <td>2.9</td>\n",
       "      <td>1.6</td>\n",
       "      <td>...</td>\n",
       "      <td>-9.3</td>\n",
       "      <td>0.7</td>\n",
       "      <td>1.6</td>\n",
       "      <td>0.97</td>\n",
       "      <td>1.0275</td>\n",
       "      <td>0.25</td>\n",
       "      <td>0.04</td>\n",
       "      <td>8.5</td>\n",
       "      <td>7.2</td>\n",
       "      <td>9.8</td>\n",
       "    </tr>\n",
       "    <tr>\n",
       "      <th>1</th>\n",
       "      <td>20000102</td>\n",
       "      <td>1</td>\n",
       "      <td>8</td>\n",
       "      <td>0.87</td>\n",
       "      <td>1.0318</td>\n",
       "      <td>0.25</td>\n",
       "      <td>0.00</td>\n",
       "      <td>0.0</td>\n",
       "      <td>3.6</td>\n",
       "      <td>2.7</td>\n",
       "      <td>...</td>\n",
       "      <td>0.5</td>\n",
       "      <td>2.0</td>\n",
       "      <td>2.0</td>\n",
       "      <td>0.99</td>\n",
       "      <td>1.0293</td>\n",
       "      <td>0.17</td>\n",
       "      <td>0.16</td>\n",
       "      <td>7.9</td>\n",
       "      <td>6.6</td>\n",
       "      <td>9.2</td>\n",
       "    </tr>\n",
       "    <tr>\n",
       "      <th>2</th>\n",
       "      <td>20000103</td>\n",
       "      <td>1</td>\n",
       "      <td>5</td>\n",
       "      <td>0.81</td>\n",
       "      <td>1.0314</td>\n",
       "      <td>0.50</td>\n",
       "      <td>0.00</td>\n",
       "      <td>3.7</td>\n",
       "      <td>2.2</td>\n",
       "      <td>0.1</td>\n",
       "      <td>...</td>\n",
       "      <td>-1.0</td>\n",
       "      <td>2.8</td>\n",
       "      <td>3.4</td>\n",
       "      <td>0.91</td>\n",
       "      <td>1.0267</td>\n",
       "      <td>0.27</td>\n",
       "      <td>0.00</td>\n",
       "      <td>8.1</td>\n",
       "      <td>6.6</td>\n",
       "      <td>9.6</td>\n",
       "    </tr>\n",
       "    <tr>\n",
       "      <th>3</th>\n",
       "      <td>20000104</td>\n",
       "      <td>1</td>\n",
       "      <td>7</td>\n",
       "      <td>0.79</td>\n",
       "      <td>1.0262</td>\n",
       "      <td>0.63</td>\n",
       "      <td>0.35</td>\n",
       "      <td>6.9</td>\n",
       "      <td>3.9</td>\n",
       "      <td>0.5</td>\n",
       "      <td>...</td>\n",
       "      <td>2.5</td>\n",
       "      <td>4.6</td>\n",
       "      <td>4.9</td>\n",
       "      <td>0.95</td>\n",
       "      <td>1.0222</td>\n",
       "      <td>0.11</td>\n",
       "      <td>0.44</td>\n",
       "      <td>8.6</td>\n",
       "      <td>6.4</td>\n",
       "      <td>10.8</td>\n",
       "    </tr>\n",
       "    <tr>\n",
       "      <th>4</th>\n",
       "      <td>20000105</td>\n",
       "      <td>1</td>\n",
       "      <td>5</td>\n",
       "      <td>0.90</td>\n",
       "      <td>1.0246</td>\n",
       "      <td>0.51</td>\n",
       "      <td>0.07</td>\n",
       "      <td>3.7</td>\n",
       "      <td>6.0</td>\n",
       "      <td>3.8</td>\n",
       "      <td>...</td>\n",
       "      <td>-1.8</td>\n",
       "      <td>2.9</td>\n",
       "      <td>3.6</td>\n",
       "      <td>0.95</td>\n",
       "      <td>1.0209</td>\n",
       "      <td>0.39</td>\n",
       "      <td>0.04</td>\n",
       "      <td>8.0</td>\n",
       "      <td>6.4</td>\n",
       "      <td>9.5</td>\n",
       "    </tr>\n",
       "  </tbody>\n",
       "</table>\n",
       "<p>5 rows × 165 columns</p>\n",
       "</div>"
      ],
      "text/plain": [
       "       DATE  MONTH  BASEL_cloud_cover  BASEL_humidity  BASEL_pressure  \\\n",
       "0  20000101      1                  8            0.89          1.0286   \n",
       "1  20000102      1                  8            0.87          1.0318   \n",
       "2  20000103      1                  5            0.81          1.0314   \n",
       "3  20000104      1                  7            0.79          1.0262   \n",
       "4  20000105      1                  5            0.90          1.0246   \n",
       "\n",
       "   BASEL_global_radiation  BASEL_precipitation  BASEL_sunshine  \\\n",
       "0                    0.20                 0.03             0.0   \n",
       "1                    0.25                 0.00             0.0   \n",
       "2                    0.50                 0.00             3.7   \n",
       "3                    0.63                 0.35             6.9   \n",
       "4                    0.51                 0.07             3.7   \n",
       "\n",
       "   BASEL_temp_mean  BASEL_temp_min  ...  STOCKHOLM_temp_min  \\\n",
       "0              2.9             1.6  ...                -9.3   \n",
       "1              3.6             2.7  ...                 0.5   \n",
       "2              2.2             0.1  ...                -1.0   \n",
       "3              3.9             0.5  ...                 2.5   \n",
       "4              6.0             3.8  ...                -1.8   \n",
       "\n",
       "   STOCKHOLM_temp_max  TOURS_wind_speed  TOURS_humidity  TOURS_pressure  \\\n",
       "0                 0.7               1.6            0.97          1.0275   \n",
       "1                 2.0               2.0            0.99          1.0293   \n",
       "2                 2.8               3.4            0.91          1.0267   \n",
       "3                 4.6               4.9            0.95          1.0222   \n",
       "4                 2.9               3.6            0.95          1.0209   \n",
       "\n",
       "   TOURS_global_radiation  TOURS_precipitation  TOURS_temp_mean  \\\n",
       "0                    0.25                 0.04              8.5   \n",
       "1                    0.17                 0.16              7.9   \n",
       "2                    0.27                 0.00              8.1   \n",
       "3                    0.11                 0.44              8.6   \n",
       "4                    0.39                 0.04              8.0   \n",
       "\n",
       "   TOURS_temp_min  TOURS_temp_max  \n",
       "0             7.2             9.8  \n",
       "1             6.6             9.2  \n",
       "2             6.6             9.6  \n",
       "3             6.4            10.8  \n",
       "4             6.4             9.5  \n",
       "\n",
       "[5 rows x 165 columns]"
      ]
     },
     "execution_count": 3,
     "metadata": {},
     "output_type": "execute_result"
    }
   ],
   "source": [
    "weather_data.head()"
   ]
  },
  {
   "cell_type": "code",
   "execution_count": 4,
   "id": "ace68e2e",
   "metadata": {
    "execution": {
     "iopub.execute_input": "2024-04-05T21:25:47.505976Z",
     "iopub.status.busy": "2024-04-05T21:25:47.505269Z",
     "iopub.status.idle": "2024-04-05T21:25:47.522349Z",
     "shell.execute_reply": "2024-04-05T21:25:47.521301Z"
    },
    "papermill": {
     "duration": 0.030098,
     "end_time": "2024-04-05T21:25:47.524637",
     "exception": false,
     "start_time": "2024-04-05T21:25:47.494539",
     "status": "completed"
    },
    "tags": []
   },
   "outputs": [
    {
     "data": {
      "text/html": [
       "<div>\n",
       "<style scoped>\n",
       "    .dataframe tbody tr th:only-of-type {\n",
       "        vertical-align: middle;\n",
       "    }\n",
       "\n",
       "    .dataframe tbody tr th {\n",
       "        vertical-align: top;\n",
       "    }\n",
       "\n",
       "    .dataframe thead th {\n",
       "        text-align: right;\n",
       "    }\n",
       "</style>\n",
       "<table border=\"1\" class=\"dataframe\">\n",
       "  <thead>\n",
       "    <tr style=\"text-align: right;\">\n",
       "      <th></th>\n",
       "      <th>DATE</th>\n",
       "      <th>BASEL_BBQ_weather</th>\n",
       "      <th>BUDAPEST_BBQ_weather</th>\n",
       "      <th>DE_BBQ_weather</th>\n",
       "      <th>DRESDEN_BBQ_weather</th>\n",
       "      <th>DUSSELDORF_BBQ_weather</th>\n",
       "      <th>HEATHROW_BBQ_weather</th>\n",
       "      <th>KASSEL_BBQ_weather</th>\n",
       "      <th>LJUBLJANA_BBQ_weather</th>\n",
       "      <th>MAASTRICHT_BBQ_weather</th>\n",
       "      <th>MALMO_BBQ_weather</th>\n",
       "      <th>MONTELIMAR_BBQ_weather</th>\n",
       "      <th>MUENCHEN_BBQ_weather</th>\n",
       "      <th>OSLO_BBQ_weather</th>\n",
       "      <th>PERPIGNAN_BBQ_weather</th>\n",
       "      <th>SONNBLICK_BBQ_weather</th>\n",
       "      <th>STOCKHOLM_BBQ_weather</th>\n",
       "      <th>TOURS_BBQ_weather</th>\n",
       "    </tr>\n",
       "  </thead>\n",
       "  <tbody>\n",
       "    <tr>\n",
       "      <th>0</th>\n",
       "      <td>20000101</td>\n",
       "      <td>False</td>\n",
       "      <td>False</td>\n",
       "      <td>False</td>\n",
       "      <td>False</td>\n",
       "      <td>False</td>\n",
       "      <td>False</td>\n",
       "      <td>False</td>\n",
       "      <td>False</td>\n",
       "      <td>False</td>\n",
       "      <td>False</td>\n",
       "      <td>False</td>\n",
       "      <td>False</td>\n",
       "      <td>False</td>\n",
       "      <td>False</td>\n",
       "      <td>False</td>\n",
       "      <td>False</td>\n",
       "      <td>False</td>\n",
       "    </tr>\n",
       "    <tr>\n",
       "      <th>1</th>\n",
       "      <td>20000102</td>\n",
       "      <td>False</td>\n",
       "      <td>False</td>\n",
       "      <td>False</td>\n",
       "      <td>False</td>\n",
       "      <td>False</td>\n",
       "      <td>False</td>\n",
       "      <td>False</td>\n",
       "      <td>False</td>\n",
       "      <td>False</td>\n",
       "      <td>False</td>\n",
       "      <td>False</td>\n",
       "      <td>False</td>\n",
       "      <td>False</td>\n",
       "      <td>False</td>\n",
       "      <td>False</td>\n",
       "      <td>False</td>\n",
       "      <td>False</td>\n",
       "    </tr>\n",
       "    <tr>\n",
       "      <th>2</th>\n",
       "      <td>20000103</td>\n",
       "      <td>False</td>\n",
       "      <td>False</td>\n",
       "      <td>False</td>\n",
       "      <td>False</td>\n",
       "      <td>False</td>\n",
       "      <td>False</td>\n",
       "      <td>False</td>\n",
       "      <td>False</td>\n",
       "      <td>False</td>\n",
       "      <td>False</td>\n",
       "      <td>False</td>\n",
       "      <td>False</td>\n",
       "      <td>False</td>\n",
       "      <td>False</td>\n",
       "      <td>False</td>\n",
       "      <td>False</td>\n",
       "      <td>False</td>\n",
       "    </tr>\n",
       "    <tr>\n",
       "      <th>3</th>\n",
       "      <td>20000104</td>\n",
       "      <td>False</td>\n",
       "      <td>False</td>\n",
       "      <td>False</td>\n",
       "      <td>False</td>\n",
       "      <td>False</td>\n",
       "      <td>False</td>\n",
       "      <td>False</td>\n",
       "      <td>False</td>\n",
       "      <td>False</td>\n",
       "      <td>False</td>\n",
       "      <td>False</td>\n",
       "      <td>False</td>\n",
       "      <td>False</td>\n",
       "      <td>False</td>\n",
       "      <td>False</td>\n",
       "      <td>False</td>\n",
       "      <td>False</td>\n",
       "    </tr>\n",
       "    <tr>\n",
       "      <th>4</th>\n",
       "      <td>20000105</td>\n",
       "      <td>False</td>\n",
       "      <td>False</td>\n",
       "      <td>False</td>\n",
       "      <td>False</td>\n",
       "      <td>False</td>\n",
       "      <td>False</td>\n",
       "      <td>False</td>\n",
       "      <td>False</td>\n",
       "      <td>False</td>\n",
       "      <td>False</td>\n",
       "      <td>False</td>\n",
       "      <td>False</td>\n",
       "      <td>False</td>\n",
       "      <td>False</td>\n",
       "      <td>False</td>\n",
       "      <td>False</td>\n",
       "      <td>False</td>\n",
       "    </tr>\n",
       "  </tbody>\n",
       "</table>\n",
       "</div>"
      ],
      "text/plain": [
       "       DATE  BASEL_BBQ_weather  BUDAPEST_BBQ_weather  DE_BBQ_weather  \\\n",
       "0  20000101              False                 False           False   \n",
       "1  20000102              False                 False           False   \n",
       "2  20000103              False                 False           False   \n",
       "3  20000104              False                 False           False   \n",
       "4  20000105              False                 False           False   \n",
       "\n",
       "   DRESDEN_BBQ_weather  DUSSELDORF_BBQ_weather  HEATHROW_BBQ_weather  \\\n",
       "0                False                   False                 False   \n",
       "1                False                   False                 False   \n",
       "2                False                   False                 False   \n",
       "3                False                   False                 False   \n",
       "4                False                   False                 False   \n",
       "\n",
       "   KASSEL_BBQ_weather  LJUBLJANA_BBQ_weather  MAASTRICHT_BBQ_weather  \\\n",
       "0               False                  False                   False   \n",
       "1               False                  False                   False   \n",
       "2               False                  False                   False   \n",
       "3               False                  False                   False   \n",
       "4               False                  False                   False   \n",
       "\n",
       "   MALMO_BBQ_weather  MONTELIMAR_BBQ_weather  MUENCHEN_BBQ_weather  \\\n",
       "0              False                   False                 False   \n",
       "1              False                   False                 False   \n",
       "2              False                   False                 False   \n",
       "3              False                   False                 False   \n",
       "4              False                   False                 False   \n",
       "\n",
       "   OSLO_BBQ_weather  PERPIGNAN_BBQ_weather  SONNBLICK_BBQ_weather  \\\n",
       "0             False                  False                  False   \n",
       "1             False                  False                  False   \n",
       "2             False                  False                  False   \n",
       "3             False                  False                  False   \n",
       "4             False                  False                  False   \n",
       "\n",
       "   STOCKHOLM_BBQ_weather  TOURS_BBQ_weather  \n",
       "0                  False              False  \n",
       "1                  False              False  \n",
       "2                  False              False  \n",
       "3                  False              False  \n",
       "4                  False              False  "
      ]
     },
     "execution_count": 4,
     "metadata": {},
     "output_type": "execute_result"
    }
   ],
   "source": [
    "bbq_labels.head()"
   ]
  },
  {
   "cell_type": "markdown",
   "id": "5631b9c1",
   "metadata": {
    "papermill": {
     "duration": 0.009576,
     "end_time": "2024-04-05T21:25:47.564370",
     "exception": false,
     "start_time": "2024-04-05T21:25:47.554794",
     "status": "completed"
    },
    "tags": []
   },
   "source": [
    "# Step 4: Merge datasets on the 'DATE' column\n"
   ]
  },
  {
   "cell_type": "code",
   "execution_count": 5,
   "id": "f9cce604",
   "metadata": {
    "execution": {
     "iopub.execute_input": "2024-04-05T21:25:47.586115Z",
     "iopub.status.busy": "2024-04-05T21:25:47.585346Z",
     "iopub.status.idle": "2024-04-05T21:25:47.615382Z",
     "shell.execute_reply": "2024-04-05T21:25:47.614373Z"
    },
    "papermill": {
     "duration": 0.043187,
     "end_time": "2024-04-05T21:25:47.617523",
     "exception": false,
     "start_time": "2024-04-05T21:25:47.574336",
     "status": "completed"
    },
    "tags": []
   },
   "outputs": [
    {
     "data": {
      "text/html": [
       "<div>\n",
       "<style scoped>\n",
       "    .dataframe tbody tr th:only-of-type {\n",
       "        vertical-align: middle;\n",
       "    }\n",
       "\n",
       "    .dataframe tbody tr th {\n",
       "        vertical-align: top;\n",
       "    }\n",
       "\n",
       "    .dataframe thead th {\n",
       "        text-align: right;\n",
       "    }\n",
       "</style>\n",
       "<table border=\"1\" class=\"dataframe\">\n",
       "  <thead>\n",
       "    <tr style=\"text-align: right;\">\n",
       "      <th></th>\n",
       "      <th>DATE</th>\n",
       "      <th>MONTH</th>\n",
       "      <th>BASEL_cloud_cover</th>\n",
       "      <th>BASEL_humidity</th>\n",
       "      <th>BASEL_pressure</th>\n",
       "      <th>BASEL_global_radiation</th>\n",
       "      <th>BASEL_precipitation</th>\n",
       "      <th>BASEL_sunshine</th>\n",
       "      <th>BASEL_temp_mean</th>\n",
       "      <th>BASEL_temp_min</th>\n",
       "      <th>...</th>\n",
       "      <th>LJUBLJANA_BBQ_weather</th>\n",
       "      <th>MAASTRICHT_BBQ_weather</th>\n",
       "      <th>MALMO_BBQ_weather</th>\n",
       "      <th>MONTELIMAR_BBQ_weather</th>\n",
       "      <th>MUENCHEN_BBQ_weather</th>\n",
       "      <th>OSLO_BBQ_weather</th>\n",
       "      <th>PERPIGNAN_BBQ_weather</th>\n",
       "      <th>SONNBLICK_BBQ_weather</th>\n",
       "      <th>STOCKHOLM_BBQ_weather</th>\n",
       "      <th>TOURS_BBQ_weather</th>\n",
       "    </tr>\n",
       "  </thead>\n",
       "  <tbody>\n",
       "    <tr>\n",
       "      <th>0</th>\n",
       "      <td>20000101</td>\n",
       "      <td>1</td>\n",
       "      <td>8</td>\n",
       "      <td>0.89</td>\n",
       "      <td>1.0286</td>\n",
       "      <td>0.20</td>\n",
       "      <td>0.03</td>\n",
       "      <td>0.0</td>\n",
       "      <td>2.9</td>\n",
       "      <td>1.6</td>\n",
       "      <td>...</td>\n",
       "      <td>False</td>\n",
       "      <td>False</td>\n",
       "      <td>False</td>\n",
       "      <td>False</td>\n",
       "      <td>False</td>\n",
       "      <td>False</td>\n",
       "      <td>False</td>\n",
       "      <td>False</td>\n",
       "      <td>False</td>\n",
       "      <td>False</td>\n",
       "    </tr>\n",
       "    <tr>\n",
       "      <th>1</th>\n",
       "      <td>20000102</td>\n",
       "      <td>1</td>\n",
       "      <td>8</td>\n",
       "      <td>0.87</td>\n",
       "      <td>1.0318</td>\n",
       "      <td>0.25</td>\n",
       "      <td>0.00</td>\n",
       "      <td>0.0</td>\n",
       "      <td>3.6</td>\n",
       "      <td>2.7</td>\n",
       "      <td>...</td>\n",
       "      <td>False</td>\n",
       "      <td>False</td>\n",
       "      <td>False</td>\n",
       "      <td>False</td>\n",
       "      <td>False</td>\n",
       "      <td>False</td>\n",
       "      <td>False</td>\n",
       "      <td>False</td>\n",
       "      <td>False</td>\n",
       "      <td>False</td>\n",
       "    </tr>\n",
       "    <tr>\n",
       "      <th>2</th>\n",
       "      <td>20000103</td>\n",
       "      <td>1</td>\n",
       "      <td>5</td>\n",
       "      <td>0.81</td>\n",
       "      <td>1.0314</td>\n",
       "      <td>0.50</td>\n",
       "      <td>0.00</td>\n",
       "      <td>3.7</td>\n",
       "      <td>2.2</td>\n",
       "      <td>0.1</td>\n",
       "      <td>...</td>\n",
       "      <td>False</td>\n",
       "      <td>False</td>\n",
       "      <td>False</td>\n",
       "      <td>False</td>\n",
       "      <td>False</td>\n",
       "      <td>False</td>\n",
       "      <td>False</td>\n",
       "      <td>False</td>\n",
       "      <td>False</td>\n",
       "      <td>False</td>\n",
       "    </tr>\n",
       "    <tr>\n",
       "      <th>3</th>\n",
       "      <td>20000104</td>\n",
       "      <td>1</td>\n",
       "      <td>7</td>\n",
       "      <td>0.79</td>\n",
       "      <td>1.0262</td>\n",
       "      <td>0.63</td>\n",
       "      <td>0.35</td>\n",
       "      <td>6.9</td>\n",
       "      <td>3.9</td>\n",
       "      <td>0.5</td>\n",
       "      <td>...</td>\n",
       "      <td>False</td>\n",
       "      <td>False</td>\n",
       "      <td>False</td>\n",
       "      <td>False</td>\n",
       "      <td>False</td>\n",
       "      <td>False</td>\n",
       "      <td>False</td>\n",
       "      <td>False</td>\n",
       "      <td>False</td>\n",
       "      <td>False</td>\n",
       "    </tr>\n",
       "    <tr>\n",
       "      <th>4</th>\n",
       "      <td>20000105</td>\n",
       "      <td>1</td>\n",
       "      <td>5</td>\n",
       "      <td>0.90</td>\n",
       "      <td>1.0246</td>\n",
       "      <td>0.51</td>\n",
       "      <td>0.07</td>\n",
       "      <td>3.7</td>\n",
       "      <td>6.0</td>\n",
       "      <td>3.8</td>\n",
       "      <td>...</td>\n",
       "      <td>False</td>\n",
       "      <td>False</td>\n",
       "      <td>False</td>\n",
       "      <td>False</td>\n",
       "      <td>False</td>\n",
       "      <td>False</td>\n",
       "      <td>False</td>\n",
       "      <td>False</td>\n",
       "      <td>False</td>\n",
       "      <td>False</td>\n",
       "    </tr>\n",
       "  </tbody>\n",
       "</table>\n",
       "<p>5 rows × 182 columns</p>\n",
       "</div>"
      ],
      "text/plain": [
       "       DATE  MONTH  BASEL_cloud_cover  BASEL_humidity  BASEL_pressure  \\\n",
       "0  20000101      1                  8            0.89          1.0286   \n",
       "1  20000102      1                  8            0.87          1.0318   \n",
       "2  20000103      1                  5            0.81          1.0314   \n",
       "3  20000104      1                  7            0.79          1.0262   \n",
       "4  20000105      1                  5            0.90          1.0246   \n",
       "\n",
       "   BASEL_global_radiation  BASEL_precipitation  BASEL_sunshine  \\\n",
       "0                    0.20                 0.03             0.0   \n",
       "1                    0.25                 0.00             0.0   \n",
       "2                    0.50                 0.00             3.7   \n",
       "3                    0.63                 0.35             6.9   \n",
       "4                    0.51                 0.07             3.7   \n",
       "\n",
       "   BASEL_temp_mean  BASEL_temp_min  ...  LJUBLJANA_BBQ_weather  \\\n",
       "0              2.9             1.6  ...                  False   \n",
       "1              3.6             2.7  ...                  False   \n",
       "2              2.2             0.1  ...                  False   \n",
       "3              3.9             0.5  ...                  False   \n",
       "4              6.0             3.8  ...                  False   \n",
       "\n",
       "   MAASTRICHT_BBQ_weather  MALMO_BBQ_weather  MONTELIMAR_BBQ_weather  \\\n",
       "0                   False              False                   False   \n",
       "1                   False              False                   False   \n",
       "2                   False              False                   False   \n",
       "3                   False              False                   False   \n",
       "4                   False              False                   False   \n",
       "\n",
       "   MUENCHEN_BBQ_weather  OSLO_BBQ_weather  PERPIGNAN_BBQ_weather  \\\n",
       "0                 False             False                  False   \n",
       "1                 False             False                  False   \n",
       "2                 False             False                  False   \n",
       "3                 False             False                  False   \n",
       "4                 False             False                  False   \n",
       "\n",
       "   SONNBLICK_BBQ_weather  STOCKHOLM_BBQ_weather  TOURS_BBQ_weather  \n",
       "0                  False                  False              False  \n",
       "1                  False                  False              False  \n",
       "2                  False                  False              False  \n",
       "3                  False                  False              False  \n",
       "4                  False                  False              False  \n",
       "\n",
       "[5 rows x 182 columns]"
      ]
     },
     "execution_count": 5,
     "metadata": {},
     "output_type": "execute_result"
    }
   ],
   "source": [
    "merged_data = pd.merge(weather_data, bbq_labels, on='DATE')\n",
    "merged_data .head()"
   ]
  },
  {
   "cell_type": "markdown",
   "id": "d5ab83a5",
   "metadata": {
    "papermill": {
     "duration": 0.009838,
     "end_time": "2024-04-05T21:25:47.637577",
     "exception": false,
     "start_time": "2024-04-05T21:25:47.627739",
     "status": "completed"
    },
    "tags": []
   },
   "source": [
    "# Step 5:Check for missing values in merged_data\n"
   ]
  },
  {
   "cell_type": "code",
   "execution_count": 6,
   "id": "e1a9cdfc",
   "metadata": {
    "execution": {
     "iopub.execute_input": "2024-04-05T21:25:47.659615Z",
     "iopub.status.busy": "2024-04-05T21:25:47.658992Z",
     "iopub.status.idle": "2024-04-05T21:25:47.669242Z",
     "shell.execute_reply": "2024-04-05T21:25:47.668306Z"
    },
    "papermill": {
     "duration": 0.024062,
     "end_time": "2024-04-05T21:25:47.671685",
     "exception": false,
     "start_time": "2024-04-05T21:25:47.647623",
     "status": "completed"
    },
    "tags": []
   },
   "outputs": [
    {
     "data": {
      "text/plain": [
       "0"
      ]
     },
     "execution_count": 6,
     "metadata": {},
     "output_type": "execute_result"
    }
   ],
   "source": [
    "# Count missing values in all column using isna() method\n",
    "missing_counts = merged_data.isna().sum().sum()\n",
    "missing_counts"
   ]
  },
  {
   "cell_type": "code",
   "execution_count": 7,
   "id": "ca3d7703",
   "metadata": {
    "execution": {
     "iopub.execute_input": "2024-04-05T21:25:47.694001Z",
     "iopub.status.busy": "2024-04-05T21:25:47.693265Z",
     "iopub.status.idle": "2024-04-05T21:25:47.715810Z",
     "shell.execute_reply": "2024-04-05T21:25:47.714768Z"
    },
    "papermill": {
     "duration": 0.03618,
     "end_time": "2024-04-05T21:25:47.718162",
     "exception": false,
     "start_time": "2024-04-05T21:25:47.681982",
     "status": "completed"
    },
    "tags": []
   },
   "outputs": [
    {
     "data": {
      "text/html": [
       "<div>\n",
       "<style scoped>\n",
       "    .dataframe tbody tr th:only-of-type {\n",
       "        vertical-align: middle;\n",
       "    }\n",
       "\n",
       "    .dataframe tbody tr th {\n",
       "        vertical-align: top;\n",
       "    }\n",
       "\n",
       "    .dataframe thead th {\n",
       "        text-align: right;\n",
       "    }\n",
       "</style>\n",
       "<table border=\"1\" class=\"dataframe\">\n",
       "  <thead>\n",
       "    <tr style=\"text-align: right;\">\n",
       "      <th></th>\n",
       "      <th>DATE</th>\n",
       "      <th>MONTH</th>\n",
       "      <th>BASEL_cloud_cover</th>\n",
       "      <th>BASEL_humidity</th>\n",
       "      <th>BASEL_pressure</th>\n",
       "      <th>BASEL_global_radiation</th>\n",
       "      <th>BASEL_precipitation</th>\n",
       "      <th>BASEL_sunshine</th>\n",
       "      <th>BASEL_temp_mean</th>\n",
       "      <th>BASEL_temp_min</th>\n",
       "      <th>...</th>\n",
       "      <th>LJUBLJANA_BBQ_weather</th>\n",
       "      <th>MAASTRICHT_BBQ_weather</th>\n",
       "      <th>MALMO_BBQ_weather</th>\n",
       "      <th>MONTELIMAR_BBQ_weather</th>\n",
       "      <th>MUENCHEN_BBQ_weather</th>\n",
       "      <th>OSLO_BBQ_weather</th>\n",
       "      <th>PERPIGNAN_BBQ_weather</th>\n",
       "      <th>SONNBLICK_BBQ_weather</th>\n",
       "      <th>STOCKHOLM_BBQ_weather</th>\n",
       "      <th>TOURS_BBQ_weather</th>\n",
       "    </tr>\n",
       "  </thead>\n",
       "  <tbody>\n",
       "    <tr>\n",
       "      <th>0</th>\n",
       "      <td>20000101</td>\n",
       "      <td>1</td>\n",
       "      <td>8</td>\n",
       "      <td>0.89</td>\n",
       "      <td>1.0286</td>\n",
       "      <td>0.20</td>\n",
       "      <td>0.03</td>\n",
       "      <td>0.0</td>\n",
       "      <td>2.9</td>\n",
       "      <td>1.6</td>\n",
       "      <td>...</td>\n",
       "      <td>False</td>\n",
       "      <td>False</td>\n",
       "      <td>False</td>\n",
       "      <td>False</td>\n",
       "      <td>False</td>\n",
       "      <td>False</td>\n",
       "      <td>False</td>\n",
       "      <td>False</td>\n",
       "      <td>False</td>\n",
       "      <td>False</td>\n",
       "    </tr>\n",
       "    <tr>\n",
       "      <th>1</th>\n",
       "      <td>20000102</td>\n",
       "      <td>1</td>\n",
       "      <td>8</td>\n",
       "      <td>0.87</td>\n",
       "      <td>1.0318</td>\n",
       "      <td>0.25</td>\n",
       "      <td>0.00</td>\n",
       "      <td>0.0</td>\n",
       "      <td>3.6</td>\n",
       "      <td>2.7</td>\n",
       "      <td>...</td>\n",
       "      <td>False</td>\n",
       "      <td>False</td>\n",
       "      <td>False</td>\n",
       "      <td>False</td>\n",
       "      <td>False</td>\n",
       "      <td>False</td>\n",
       "      <td>False</td>\n",
       "      <td>False</td>\n",
       "      <td>False</td>\n",
       "      <td>False</td>\n",
       "    </tr>\n",
       "    <tr>\n",
       "      <th>2</th>\n",
       "      <td>20000103</td>\n",
       "      <td>1</td>\n",
       "      <td>5</td>\n",
       "      <td>0.81</td>\n",
       "      <td>1.0314</td>\n",
       "      <td>0.50</td>\n",
       "      <td>0.00</td>\n",
       "      <td>3.7</td>\n",
       "      <td>2.2</td>\n",
       "      <td>0.1</td>\n",
       "      <td>...</td>\n",
       "      <td>False</td>\n",
       "      <td>False</td>\n",
       "      <td>False</td>\n",
       "      <td>False</td>\n",
       "      <td>False</td>\n",
       "      <td>False</td>\n",
       "      <td>False</td>\n",
       "      <td>False</td>\n",
       "      <td>False</td>\n",
       "      <td>False</td>\n",
       "    </tr>\n",
       "    <tr>\n",
       "      <th>3</th>\n",
       "      <td>20000104</td>\n",
       "      <td>1</td>\n",
       "      <td>7</td>\n",
       "      <td>0.79</td>\n",
       "      <td>1.0262</td>\n",
       "      <td>0.63</td>\n",
       "      <td>0.35</td>\n",
       "      <td>6.9</td>\n",
       "      <td>3.9</td>\n",
       "      <td>0.5</td>\n",
       "      <td>...</td>\n",
       "      <td>False</td>\n",
       "      <td>False</td>\n",
       "      <td>False</td>\n",
       "      <td>False</td>\n",
       "      <td>False</td>\n",
       "      <td>False</td>\n",
       "      <td>False</td>\n",
       "      <td>False</td>\n",
       "      <td>False</td>\n",
       "      <td>False</td>\n",
       "    </tr>\n",
       "    <tr>\n",
       "      <th>4</th>\n",
       "      <td>20000105</td>\n",
       "      <td>1</td>\n",
       "      <td>5</td>\n",
       "      <td>0.90</td>\n",
       "      <td>1.0246</td>\n",
       "      <td>0.51</td>\n",
       "      <td>0.07</td>\n",
       "      <td>3.7</td>\n",
       "      <td>6.0</td>\n",
       "      <td>3.8</td>\n",
       "      <td>...</td>\n",
       "      <td>False</td>\n",
       "      <td>False</td>\n",
       "      <td>False</td>\n",
       "      <td>False</td>\n",
       "      <td>False</td>\n",
       "      <td>False</td>\n",
       "      <td>False</td>\n",
       "      <td>False</td>\n",
       "      <td>False</td>\n",
       "      <td>False</td>\n",
       "    </tr>\n",
       "  </tbody>\n",
       "</table>\n",
       "<p>5 rows × 182 columns</p>\n",
       "</div>"
      ],
      "text/plain": [
       "       DATE  MONTH  BASEL_cloud_cover  BASEL_humidity  BASEL_pressure  \\\n",
       "0  20000101      1                  8            0.89          1.0286   \n",
       "1  20000102      1                  8            0.87          1.0318   \n",
       "2  20000103      1                  5            0.81          1.0314   \n",
       "3  20000104      1                  7            0.79          1.0262   \n",
       "4  20000105      1                  5            0.90          1.0246   \n",
       "\n",
       "   BASEL_global_radiation  BASEL_precipitation  BASEL_sunshine  \\\n",
       "0                    0.20                 0.03             0.0   \n",
       "1                    0.25                 0.00             0.0   \n",
       "2                    0.50                 0.00             3.7   \n",
       "3                    0.63                 0.35             6.9   \n",
       "4                    0.51                 0.07             3.7   \n",
       "\n",
       "   BASEL_temp_mean  BASEL_temp_min  ...  LJUBLJANA_BBQ_weather  \\\n",
       "0              2.9             1.6  ...                  False   \n",
       "1              3.6             2.7  ...                  False   \n",
       "2              2.2             0.1  ...                  False   \n",
       "3              3.9             0.5  ...                  False   \n",
       "4              6.0             3.8  ...                  False   \n",
       "\n",
       "   MAASTRICHT_BBQ_weather  MALMO_BBQ_weather  MONTELIMAR_BBQ_weather  \\\n",
       "0                   False              False                   False   \n",
       "1                   False              False                   False   \n",
       "2                   False              False                   False   \n",
       "3                   False              False                   False   \n",
       "4                   False              False                   False   \n",
       "\n",
       "   MUENCHEN_BBQ_weather  OSLO_BBQ_weather  PERPIGNAN_BBQ_weather  \\\n",
       "0                 False             False                  False   \n",
       "1                 False             False                  False   \n",
       "2                 False             False                  False   \n",
       "3                 False             False                  False   \n",
       "4                 False             False                  False   \n",
       "\n",
       "   SONNBLICK_BBQ_weather  STOCKHOLM_BBQ_weather  TOURS_BBQ_weather  \n",
       "0                  False                  False              False  \n",
       "1                  False                  False              False  \n",
       "2                  False                  False              False  \n",
       "3                  False                  False              False  \n",
       "4                  False                  False              False  \n",
       "\n",
       "[5 rows x 182 columns]"
      ]
     },
     "execution_count": 7,
     "metadata": {},
     "output_type": "execute_result"
    }
   ],
   "source": [
    "merged_data.head()"
   ]
  },
  {
   "cell_type": "markdown",
   "id": "b7a45b19",
   "metadata": {
    "papermill": {
     "duration": 0.010415,
     "end_time": "2024-04-05T21:25:47.739380",
     "exception": false,
     "start_time": "2024-04-05T21:25:47.728965",
     "status": "completed"
    },
    "tags": []
   },
   "source": [
    "# Step 6: define X and y"
   ]
  },
  {
   "cell_type": "code",
   "execution_count": 8,
   "id": "1fb326ad",
   "metadata": {
    "execution": {
     "iopub.execute_input": "2024-04-05T21:25:47.762754Z",
     "iopub.status.busy": "2024-04-05T21:25:47.761995Z",
     "iopub.status.idle": "2024-04-05T21:25:47.791712Z",
     "shell.execute_reply": "2024-04-05T21:25:47.790864Z"
    },
    "papermill": {
     "duration": 0.043736,
     "end_time": "2024-04-05T21:25:47.793870",
     "exception": false,
     "start_time": "2024-04-05T21:25:47.750134",
     "status": "completed"
    },
    "tags": []
   },
   "outputs": [
    {
     "data": {
      "text/html": [
       "<div>\n",
       "<style scoped>\n",
       "    .dataframe tbody tr th:only-of-type {\n",
       "        vertical-align: middle;\n",
       "    }\n",
       "\n",
       "    .dataframe tbody tr th {\n",
       "        vertical-align: top;\n",
       "    }\n",
       "\n",
       "    .dataframe thead th {\n",
       "        text-align: right;\n",
       "    }\n",
       "</style>\n",
       "<table border=\"1\" class=\"dataframe\">\n",
       "  <thead>\n",
       "    <tr style=\"text-align: right;\">\n",
       "      <th></th>\n",
       "      <th>DATE</th>\n",
       "      <th>MONTH</th>\n",
       "      <th>OSLO_cloud_cover</th>\n",
       "      <th>OSLO_wind_speed</th>\n",
       "      <th>OSLO_wind_gust</th>\n",
       "      <th>OSLO_humidity</th>\n",
       "      <th>OSLO_pressure</th>\n",
       "      <th>OSLO_global_radiation</th>\n",
       "      <th>OSLO_precipitation</th>\n",
       "      <th>OSLO_sunshine</th>\n",
       "      <th>OSLO_temp_mean</th>\n",
       "      <th>OSLO_temp_min</th>\n",
       "      <th>OSLO_temp_max</th>\n",
       "    </tr>\n",
       "  </thead>\n",
       "  <tbody>\n",
       "    <tr>\n",
       "      <th>0</th>\n",
       "      <td>20000101</td>\n",
       "      <td>1</td>\n",
       "      <td>7</td>\n",
       "      <td>0.9</td>\n",
       "      <td>5.1</td>\n",
       "      <td>0.94</td>\n",
       "      <td>1.0130</td>\n",
       "      <td>0.04</td>\n",
       "      <td>0.60</td>\n",
       "      <td>0.0</td>\n",
       "      <td>-5.0</td>\n",
       "      <td>-8.6</td>\n",
       "      <td>-3.2</td>\n",
       "    </tr>\n",
       "    <tr>\n",
       "      <th>1</th>\n",
       "      <td>20000102</td>\n",
       "      <td>1</td>\n",
       "      <td>6</td>\n",
       "      <td>1.9</td>\n",
       "      <td>5.7</td>\n",
       "      <td>0.94</td>\n",
       "      <td>1.0076</td>\n",
       "      <td>0.11</td>\n",
       "      <td>0.00</td>\n",
       "      <td>1.6</td>\n",
       "      <td>-0.8</td>\n",
       "      <td>-6.7</td>\n",
       "      <td>2.4</td>\n",
       "    </tr>\n",
       "    <tr>\n",
       "      <th>2</th>\n",
       "      <td>20000103</td>\n",
       "      <td>1</td>\n",
       "      <td>6</td>\n",
       "      <td>1.7</td>\n",
       "      <td>8.7</td>\n",
       "      <td>0.88</td>\n",
       "      <td>1.0016</td>\n",
       "      <td>0.04</td>\n",
       "      <td>0.00</td>\n",
       "      <td>0.0</td>\n",
       "      <td>1.2</td>\n",
       "      <td>-1.1</td>\n",
       "      <td>3.8</td>\n",
       "    </tr>\n",
       "    <tr>\n",
       "      <th>3</th>\n",
       "      <td>20000104</td>\n",
       "      <td>1</td>\n",
       "      <td>1</td>\n",
       "      <td>3.4</td>\n",
       "      <td>11.8</td>\n",
       "      <td>0.58</td>\n",
       "      <td>0.9982</td>\n",
       "      <td>0.13</td>\n",
       "      <td>0.00</td>\n",
       "      <td>5.3</td>\n",
       "      <td>2.1</td>\n",
       "      <td>-0.5</td>\n",
       "      <td>5.1</td>\n",
       "    </tr>\n",
       "    <tr>\n",
       "      <th>4</th>\n",
       "      <td>20000105</td>\n",
       "      <td>1</td>\n",
       "      <td>8</td>\n",
       "      <td>1.2</td>\n",
       "      <td>5.7</td>\n",
       "      <td>0.94</td>\n",
       "      <td>1.0055</td>\n",
       "      <td>0.05</td>\n",
       "      <td>0.06</td>\n",
       "      <td>0.0</td>\n",
       "      <td>-0.7</td>\n",
       "      <td>-4.0</td>\n",
       "      <td>0.5</td>\n",
       "    </tr>\n",
       "    <tr>\n",
       "      <th>...</th>\n",
       "      <td>...</td>\n",
       "      <td>...</td>\n",
       "      <td>...</td>\n",
       "      <td>...</td>\n",
       "      <td>...</td>\n",
       "      <td>...</td>\n",
       "      <td>...</td>\n",
       "      <td>...</td>\n",
       "      <td>...</td>\n",
       "      <td>...</td>\n",
       "      <td>...</td>\n",
       "      <td>...</td>\n",
       "      <td>...</td>\n",
       "    </tr>\n",
       "    <tr>\n",
       "      <th>3649</th>\n",
       "      <td>20091228</td>\n",
       "      <td>12</td>\n",
       "      <td>4</td>\n",
       "      <td>1.2</td>\n",
       "      <td>5.3</td>\n",
       "      <td>0.88</td>\n",
       "      <td>0.9954</td>\n",
       "      <td>0.16</td>\n",
       "      <td>0.00</td>\n",
       "      <td>4.8</td>\n",
       "      <td>-10.1</td>\n",
       "      <td>-11.7</td>\n",
       "      <td>-5.9</td>\n",
       "    </tr>\n",
       "    <tr>\n",
       "      <th>3650</th>\n",
       "      <td>20091229</td>\n",
       "      <td>12</td>\n",
       "      <td>1</td>\n",
       "      <td>0.7</td>\n",
       "      <td>4.1</td>\n",
       "      <td>0.88</td>\n",
       "      <td>1.0060</td>\n",
       "      <td>0.16</td>\n",
       "      <td>0.00</td>\n",
       "      <td>4.9</td>\n",
       "      <td>-13.1</td>\n",
       "      <td>-15.1</td>\n",
       "      <td>-9.1</td>\n",
       "    </tr>\n",
       "    <tr>\n",
       "      <th>3651</th>\n",
       "      <td>20091230</td>\n",
       "      <td>12</td>\n",
       "      <td>0</td>\n",
       "      <td>0.6</td>\n",
       "      <td>3.5</td>\n",
       "      <td>0.85</td>\n",
       "      <td>1.0094</td>\n",
       "      <td>0.16</td>\n",
       "      <td>0.00</td>\n",
       "      <td>4.4</td>\n",
       "      <td>-15.7</td>\n",
       "      <td>-17.5</td>\n",
       "      <td>-11.8</td>\n",
       "    </tr>\n",
       "    <tr>\n",
       "      <th>3652</th>\n",
       "      <td>20091231</td>\n",
       "      <td>12</td>\n",
       "      <td>5</td>\n",
       "      <td>0.6</td>\n",
       "      <td>2.4</td>\n",
       "      <td>0.88</td>\n",
       "      <td>1.0062</td>\n",
       "      <td>0.11</td>\n",
       "      <td>0.02</td>\n",
       "      <td>1.7</td>\n",
       "      <td>-10.8</td>\n",
       "      <td>-16.8</td>\n",
       "      <td>-8.9</td>\n",
       "    </tr>\n",
       "    <tr>\n",
       "      <th>3653</th>\n",
       "      <td>20100101</td>\n",
       "      <td>1</td>\n",
       "      <td>7</td>\n",
       "      <td>6.0</td>\n",
       "      <td>12.8</td>\n",
       "      <td>0.76</td>\n",
       "      <td>1.0110</td>\n",
       "      <td>0.04</td>\n",
       "      <td>0.24</td>\n",
       "      <td>0.0</td>\n",
       "      <td>-7.7</td>\n",
       "      <td>-8.9</td>\n",
       "      <td>-4.9</td>\n",
       "    </tr>\n",
       "  </tbody>\n",
       "</table>\n",
       "<p>3654 rows × 13 columns</p>\n",
       "</div>"
      ],
      "text/plain": [
       "          DATE  MONTH  OSLO_cloud_cover  OSLO_wind_speed  OSLO_wind_gust  \\\n",
       "0     20000101      1                 7              0.9             5.1   \n",
       "1     20000102      1                 6              1.9             5.7   \n",
       "2     20000103      1                 6              1.7             8.7   \n",
       "3     20000104      1                 1              3.4            11.8   \n",
       "4     20000105      1                 8              1.2             5.7   \n",
       "...        ...    ...               ...              ...             ...   \n",
       "3649  20091228     12                 4              1.2             5.3   \n",
       "3650  20091229     12                 1              0.7             4.1   \n",
       "3651  20091230     12                 0              0.6             3.5   \n",
       "3652  20091231     12                 5              0.6             2.4   \n",
       "3653  20100101      1                 7              6.0            12.8   \n",
       "\n",
       "      OSLO_humidity  OSLO_pressure  OSLO_global_radiation  OSLO_precipitation  \\\n",
       "0              0.94         1.0130                   0.04                0.60   \n",
       "1              0.94         1.0076                   0.11                0.00   \n",
       "2              0.88         1.0016                   0.04                0.00   \n",
       "3              0.58         0.9982                   0.13                0.00   \n",
       "4              0.94         1.0055                   0.05                0.06   \n",
       "...             ...            ...                    ...                 ...   \n",
       "3649           0.88         0.9954                   0.16                0.00   \n",
       "3650           0.88         1.0060                   0.16                0.00   \n",
       "3651           0.85         1.0094                   0.16                0.00   \n",
       "3652           0.88         1.0062                   0.11                0.02   \n",
       "3653           0.76         1.0110                   0.04                0.24   \n",
       "\n",
       "      OSLO_sunshine  OSLO_temp_mean  OSLO_temp_min  OSLO_temp_max  \n",
       "0               0.0            -5.0           -8.6           -3.2  \n",
       "1               1.6            -0.8           -6.7            2.4  \n",
       "2               0.0             1.2           -1.1            3.8  \n",
       "3               5.3             2.1           -0.5            5.1  \n",
       "4               0.0            -0.7           -4.0            0.5  \n",
       "...             ...             ...            ...            ...  \n",
       "3649            4.8           -10.1          -11.7           -5.9  \n",
       "3650            4.9           -13.1          -15.1           -9.1  \n",
       "3651            4.4           -15.7          -17.5          -11.8  \n",
       "3652            1.7           -10.8          -16.8           -8.9  \n",
       "3653            0.0            -7.7           -8.9           -4.9  \n",
       "\n",
       "[3654 rows x 13 columns]"
      ]
     },
     "execution_count": 8,
     "metadata": {},
     "output_type": "execute_result"
    }
   ],
   "source": [
    "# Filter columns related to Oslo and include the date\n",
    "oslo_columns = merged_data.filter(like='OSLO')\n",
    "\n",
    "# Create X with 'DATE', 'MONTH', and Oslo-related columns\n",
    "X = pd.concat([merged_data[['DATE', 'MONTH']], merged_data[oslo_columns.columns]], axis=1)\n",
    "\n",
    "# Drop the target variable OSLO_BBQ_weather from X\n",
    "X.drop('OSLO_BBQ_weather', axis=1, inplace=True)\n",
    "\n",
    "# Target variable\n",
    "y = merged_data['OSLO_BBQ_weather']\n",
    "\n",
    "X\n"
   ]
  },
  {
   "cell_type": "code",
   "execution_count": 9,
   "id": "0bbab85e",
   "metadata": {
    "execution": {
     "iopub.execute_input": "2024-04-05T21:25:47.818272Z",
     "iopub.status.busy": "2024-04-05T21:25:47.817626Z",
     "iopub.status.idle": "2024-04-05T21:25:47.839231Z",
     "shell.execute_reply": "2024-04-05T21:25:47.838430Z"
    },
    "papermill": {
     "duration": 0.035921,
     "end_time": "2024-04-05T21:25:47.841274",
     "exception": false,
     "start_time": "2024-04-05T21:25:47.805353",
     "status": "completed"
    },
    "tags": []
   },
   "outputs": [
    {
     "data": {
      "text/html": [
       "<div>\n",
       "<style scoped>\n",
       "    .dataframe tbody tr th:only-of-type {\n",
       "        vertical-align: middle;\n",
       "    }\n",
       "\n",
       "    .dataframe tbody tr th {\n",
       "        vertical-align: top;\n",
       "    }\n",
       "\n",
       "    .dataframe thead th {\n",
       "        text-align: right;\n",
       "    }\n",
       "</style>\n",
       "<table border=\"1\" class=\"dataframe\">\n",
       "  <thead>\n",
       "    <tr style=\"text-align: right;\">\n",
       "      <th></th>\n",
       "      <th>OSLO_cloud_cover</th>\n",
       "      <th>OSLO_wind_speed</th>\n",
       "      <th>OSLO_wind_gust</th>\n",
       "      <th>OSLO_humidity</th>\n",
       "      <th>OSLO_pressure</th>\n",
       "      <th>OSLO_global_radiation</th>\n",
       "      <th>OSLO_precipitation</th>\n",
       "      <th>OSLO_sunshine</th>\n",
       "      <th>OSLO_temp_mean</th>\n",
       "      <th>OSLO_temp_min</th>\n",
       "      <th>OSLO_temp_max</th>\n",
       "      <th>OSLO_BBQ_weather</th>\n",
       "    </tr>\n",
       "  </thead>\n",
       "  <tbody>\n",
       "    <tr>\n",
       "      <th>0</th>\n",
       "      <td>7</td>\n",
       "      <td>0.9</td>\n",
       "      <td>5.1</td>\n",
       "      <td>0.94</td>\n",
       "      <td>1.0130</td>\n",
       "      <td>0.04</td>\n",
       "      <td>0.60</td>\n",
       "      <td>0.0</td>\n",
       "      <td>-5.0</td>\n",
       "      <td>-8.6</td>\n",
       "      <td>-3.2</td>\n",
       "      <td>False</td>\n",
       "    </tr>\n",
       "    <tr>\n",
       "      <th>1</th>\n",
       "      <td>6</td>\n",
       "      <td>1.9</td>\n",
       "      <td>5.7</td>\n",
       "      <td>0.94</td>\n",
       "      <td>1.0076</td>\n",
       "      <td>0.11</td>\n",
       "      <td>0.00</td>\n",
       "      <td>1.6</td>\n",
       "      <td>-0.8</td>\n",
       "      <td>-6.7</td>\n",
       "      <td>2.4</td>\n",
       "      <td>False</td>\n",
       "    </tr>\n",
       "    <tr>\n",
       "      <th>2</th>\n",
       "      <td>6</td>\n",
       "      <td>1.7</td>\n",
       "      <td>8.7</td>\n",
       "      <td>0.88</td>\n",
       "      <td>1.0016</td>\n",
       "      <td>0.04</td>\n",
       "      <td>0.00</td>\n",
       "      <td>0.0</td>\n",
       "      <td>1.2</td>\n",
       "      <td>-1.1</td>\n",
       "      <td>3.8</td>\n",
       "      <td>False</td>\n",
       "    </tr>\n",
       "    <tr>\n",
       "      <th>3</th>\n",
       "      <td>1</td>\n",
       "      <td>3.4</td>\n",
       "      <td>11.8</td>\n",
       "      <td>0.58</td>\n",
       "      <td>0.9982</td>\n",
       "      <td>0.13</td>\n",
       "      <td>0.00</td>\n",
       "      <td>5.3</td>\n",
       "      <td>2.1</td>\n",
       "      <td>-0.5</td>\n",
       "      <td>5.1</td>\n",
       "      <td>False</td>\n",
       "    </tr>\n",
       "    <tr>\n",
       "      <th>4</th>\n",
       "      <td>8</td>\n",
       "      <td>1.2</td>\n",
       "      <td>5.7</td>\n",
       "      <td>0.94</td>\n",
       "      <td>1.0055</td>\n",
       "      <td>0.05</td>\n",
       "      <td>0.06</td>\n",
       "      <td>0.0</td>\n",
       "      <td>-0.7</td>\n",
       "      <td>-4.0</td>\n",
       "      <td>0.5</td>\n",
       "      <td>False</td>\n",
       "    </tr>\n",
       "    <tr>\n",
       "      <th>...</th>\n",
       "      <td>...</td>\n",
       "      <td>...</td>\n",
       "      <td>...</td>\n",
       "      <td>...</td>\n",
       "      <td>...</td>\n",
       "      <td>...</td>\n",
       "      <td>...</td>\n",
       "      <td>...</td>\n",
       "      <td>...</td>\n",
       "      <td>...</td>\n",
       "      <td>...</td>\n",
       "      <td>...</td>\n",
       "    </tr>\n",
       "    <tr>\n",
       "      <th>3649</th>\n",
       "      <td>4</td>\n",
       "      <td>1.2</td>\n",
       "      <td>5.3</td>\n",
       "      <td>0.88</td>\n",
       "      <td>0.9954</td>\n",
       "      <td>0.16</td>\n",
       "      <td>0.00</td>\n",
       "      <td>4.8</td>\n",
       "      <td>-10.1</td>\n",
       "      <td>-11.7</td>\n",
       "      <td>-5.9</td>\n",
       "      <td>False</td>\n",
       "    </tr>\n",
       "    <tr>\n",
       "      <th>3650</th>\n",
       "      <td>1</td>\n",
       "      <td>0.7</td>\n",
       "      <td>4.1</td>\n",
       "      <td>0.88</td>\n",
       "      <td>1.0060</td>\n",
       "      <td>0.16</td>\n",
       "      <td>0.00</td>\n",
       "      <td>4.9</td>\n",
       "      <td>-13.1</td>\n",
       "      <td>-15.1</td>\n",
       "      <td>-9.1</td>\n",
       "      <td>False</td>\n",
       "    </tr>\n",
       "    <tr>\n",
       "      <th>3651</th>\n",
       "      <td>0</td>\n",
       "      <td>0.6</td>\n",
       "      <td>3.5</td>\n",
       "      <td>0.85</td>\n",
       "      <td>1.0094</td>\n",
       "      <td>0.16</td>\n",
       "      <td>0.00</td>\n",
       "      <td>4.4</td>\n",
       "      <td>-15.7</td>\n",
       "      <td>-17.5</td>\n",
       "      <td>-11.8</td>\n",
       "      <td>False</td>\n",
       "    </tr>\n",
       "    <tr>\n",
       "      <th>3652</th>\n",
       "      <td>5</td>\n",
       "      <td>0.6</td>\n",
       "      <td>2.4</td>\n",
       "      <td>0.88</td>\n",
       "      <td>1.0062</td>\n",
       "      <td>0.11</td>\n",
       "      <td>0.02</td>\n",
       "      <td>1.7</td>\n",
       "      <td>-10.8</td>\n",
       "      <td>-16.8</td>\n",
       "      <td>-8.9</td>\n",
       "      <td>False</td>\n",
       "    </tr>\n",
       "    <tr>\n",
       "      <th>3653</th>\n",
       "      <td>7</td>\n",
       "      <td>6.0</td>\n",
       "      <td>12.8</td>\n",
       "      <td>0.76</td>\n",
       "      <td>1.0110</td>\n",
       "      <td>0.04</td>\n",
       "      <td>0.24</td>\n",
       "      <td>0.0</td>\n",
       "      <td>-7.7</td>\n",
       "      <td>-8.9</td>\n",
       "      <td>-4.9</td>\n",
       "      <td>False</td>\n",
       "    </tr>\n",
       "  </tbody>\n",
       "</table>\n",
       "<p>3654 rows × 12 columns</p>\n",
       "</div>"
      ],
      "text/plain": [
       "      OSLO_cloud_cover  OSLO_wind_speed  OSLO_wind_gust  OSLO_humidity  \\\n",
       "0                    7              0.9             5.1           0.94   \n",
       "1                    6              1.9             5.7           0.94   \n",
       "2                    6              1.7             8.7           0.88   \n",
       "3                    1              3.4            11.8           0.58   \n",
       "4                    8              1.2             5.7           0.94   \n",
       "...                ...              ...             ...            ...   \n",
       "3649                 4              1.2             5.3           0.88   \n",
       "3650                 1              0.7             4.1           0.88   \n",
       "3651                 0              0.6             3.5           0.85   \n",
       "3652                 5              0.6             2.4           0.88   \n",
       "3653                 7              6.0            12.8           0.76   \n",
       "\n",
       "      OSLO_pressure  OSLO_global_radiation  OSLO_precipitation  OSLO_sunshine  \\\n",
       "0            1.0130                   0.04                0.60            0.0   \n",
       "1            1.0076                   0.11                0.00            1.6   \n",
       "2            1.0016                   0.04                0.00            0.0   \n",
       "3            0.9982                   0.13                0.00            5.3   \n",
       "4            1.0055                   0.05                0.06            0.0   \n",
       "...             ...                    ...                 ...            ...   \n",
       "3649         0.9954                   0.16                0.00            4.8   \n",
       "3650         1.0060                   0.16                0.00            4.9   \n",
       "3651         1.0094                   0.16                0.00            4.4   \n",
       "3652         1.0062                   0.11                0.02            1.7   \n",
       "3653         1.0110                   0.04                0.24            0.0   \n",
       "\n",
       "      OSLO_temp_mean  OSLO_temp_min  OSLO_temp_max  OSLO_BBQ_weather  \n",
       "0               -5.0           -8.6           -3.2             False  \n",
       "1               -0.8           -6.7            2.4             False  \n",
       "2                1.2           -1.1            3.8             False  \n",
       "3                2.1           -0.5            5.1             False  \n",
       "4               -0.7           -4.0            0.5             False  \n",
       "...              ...            ...            ...               ...  \n",
       "3649           -10.1          -11.7           -5.9             False  \n",
       "3650           -13.1          -15.1           -9.1             False  \n",
       "3651           -15.7          -17.5          -11.8             False  \n",
       "3652           -10.8          -16.8           -8.9             False  \n",
       "3653            -7.7           -8.9           -4.9             False  \n",
       "\n",
       "[3654 rows x 12 columns]"
      ]
     },
     "execution_count": 9,
     "metadata": {},
     "output_type": "execute_result"
    }
   ],
   "source": [
    "merged_data[oslo_columns.columns]"
   ]
  },
  {
   "cell_type": "code",
   "execution_count": 10,
   "id": "31d53b2d",
   "metadata": {
    "execution": {
     "iopub.execute_input": "2024-04-05T21:25:47.865708Z",
     "iopub.status.busy": "2024-04-05T21:25:47.865087Z",
     "iopub.status.idle": "2024-04-05T21:25:47.871837Z",
     "shell.execute_reply": "2024-04-05T21:25:47.871109Z"
    },
    "papermill": {
     "duration": 0.021058,
     "end_time": "2024-04-05T21:25:47.873657",
     "exception": false,
     "start_time": "2024-04-05T21:25:47.852599",
     "status": "completed"
    },
    "tags": []
   },
   "outputs": [
    {
     "data": {
      "text/plain": [
       "0       False\n",
       "1       False\n",
       "2       False\n",
       "3       False\n",
       "4       False\n",
       "        ...  \n",
       "3649    False\n",
       "3650    False\n",
       "3651    False\n",
       "3652    False\n",
       "3653    False\n",
       "Name: OSLO_BBQ_weather, Length: 3654, dtype: bool"
      ]
     },
     "execution_count": 10,
     "metadata": {},
     "output_type": "execute_result"
    }
   ],
   "source": [
    "y"
   ]
  },
  {
   "cell_type": "code",
   "execution_count": 11,
   "id": "404ef3c3",
   "metadata": {
    "execution": {
     "iopub.execute_input": "2024-04-05T21:25:47.898412Z",
     "iopub.status.busy": "2024-04-05T21:25:47.897790Z",
     "iopub.status.idle": "2024-04-05T21:25:47.905083Z",
     "shell.execute_reply": "2024-04-05T21:25:47.904036Z"
    },
    "papermill": {
     "duration": 0.0223,
     "end_time": "2024-04-05T21:25:47.907381",
     "exception": false,
     "start_time": "2024-04-05T21:25:47.885081",
     "status": "completed"
    },
    "tags": []
   },
   "outputs": [
    {
     "data": {
      "text/plain": [
       "0       0\n",
       "1       0\n",
       "2       0\n",
       "3       0\n",
       "4       0\n",
       "       ..\n",
       "3649    0\n",
       "3650    0\n",
       "3651    0\n",
       "3652    0\n",
       "3653    0\n",
       "Name: OSLO_BBQ_weather, Length: 3654, dtype: int64"
      ]
     },
     "execution_count": 11,
     "metadata": {},
     "output_type": "execute_result"
    }
   ],
   "source": [
    "# Convert boolean values to numeric (1 for True, 0 for False)\n",
    "y = y.astype(int)\n",
    "y"
   ]
  },
  {
   "cell_type": "markdown",
   "id": "c1607ea4",
   "metadata": {
    "papermill": {
     "duration": 0.011177,
     "end_time": "2024-04-05T21:25:47.930247",
     "exception": false,
     "start_time": "2024-04-05T21:25:47.919070",
     "status": "completed"
    },
    "tags": []
   },
   "source": [
    "# Step 6: correlations"
   ]
  },
  {
   "cell_type": "code",
   "execution_count": 12,
   "id": "945ee7ee",
   "metadata": {
    "execution": {
     "iopub.execute_input": "2024-04-05T21:25:47.955325Z",
     "iopub.status.busy": "2024-04-05T21:25:47.954304Z",
     "iopub.status.idle": "2024-04-05T21:25:47.971274Z",
     "shell.execute_reply": "2024-04-05T21:25:47.969833Z"
    },
    "papermill": {
     "duration": 0.031894,
     "end_time": "2024-04-05T21:25:47.973530",
     "exception": false,
     "start_time": "2024-04-05T21:25:47.941636",
     "status": "completed"
    },
    "tags": []
   },
   "outputs": [
    {
     "name": "stdout",
     "output_type": "stream",
     "text": [
      "OSLO_global_radiation    0.606420\n",
      "OSLO_temp_max            0.588684\n",
      "OSLO_temp_mean           0.560277\n",
      "OSLO_sunshine            0.512060\n",
      "OSLO_temp_min            0.473198\n",
      "OSLO_humidity            0.436719\n",
      "OSLO_cloud_cover         0.302656\n",
      "OSLO_precipitation       0.210962\n",
      "OSLO_pressure            0.162005\n",
      "MONTH                    0.053296\n",
      "OSLO_wind_gust           0.034094\n",
      "OSLO_wind_speed          0.029494\n",
      "DATE                     0.012782\n",
      "dtype: float64\n"
     ]
    }
   ],
   "source": [
    "import numpy as np\n",
    "\n",
    "# Calculate Pearson correlation coefficients\n",
    "correlations = X.corrwith(y)\n",
    "\n",
    "# Absolute values of correlations for better interpretation\n",
    "correlations = correlations.abs()\n",
    "\n",
    "# Sort correlations in descending order\n",
    "sorted_correlations = correlations.sort_values(ascending=False)\n",
    "\n",
    "print(sorted_correlations)\n"
   ]
  },
  {
   "cell_type": "markdown",
   "id": "f2e0cc92",
   "metadata": {
    "papermill": {
     "duration": 0.01174,
     "end_time": "2024-04-05T21:25:47.997351",
     "exception": false,
     "start_time": "2024-04-05T21:25:47.985611",
     "status": "completed"
    },
    "tags": []
   },
   "source": [
    "# Step 7: Feature Selection "
   ]
  },
  {
   "cell_type": "code",
   "execution_count": 13,
   "id": "ad332c95",
   "metadata": {
    "execution": {
     "iopub.execute_input": "2024-04-05T21:25:48.047476Z",
     "iopub.status.busy": "2024-04-05T21:25:48.046547Z",
     "iopub.status.idle": "2024-04-05T21:25:48.685370Z",
     "shell.execute_reply": "2024-04-05T21:25:48.683237Z"
    },
    "papermill": {
     "duration": 0.654531,
     "end_time": "2024-04-05T21:25:48.687744",
     "exception": false,
     "start_time": "2024-04-05T21:25:48.033213",
     "status": "completed"
    },
    "tags": []
   },
   "outputs": [
    {
     "name": "stdout",
     "output_type": "stream",
     "text": [
      "Final Selected Features: ['OSLO_global_radiation', 'OSLO_temp_mean', 'OSLO_humidity', 'OSLO_temp_min', 'OSLO_precipitation', 'OSLO_temp_max', 'OSLO_cloud_cover', 'OSLO_sunshine']\n"
     ]
    }
   ],
   "source": [
    "import pandas as pd\n",
    "from sklearn.feature_selection import SelectKBest, mutual_info_classif, f_classif, RFE, SelectFromModel\n",
    "from sklearn.linear_model import LogisticRegression  # Example classifier for RFE\n",
    "from sklearn.ensemble import RandomForestClassifier  # Example classifier for SelectFromModel\n",
    "from sklearn.model_selection import train_test_split\n",
    "\n",
    "# Assuming X is your feature matrix and y is your target variable\n",
    "# Replace these with your actual data\n",
    "\n",
    "# Calculate correlation coefficients between features and target\n",
    "correlations = X.corrwith(y)\n",
    "\n",
    "# Select features with high correlation coefficients\n",
    "high_corr_features = correlations[abs(correlations) > 0.3].index  # Adjust correlation threshold as needed\n",
    "\n",
    "# Split the data into training and testing sets\n",
    "X_train, X_test, y_train, y_test = train_test_split(X, y, test_size=0.2, random_state=42)\n",
    "\n",
    "# Define the number of features to select for SelectKBest and RFE\n",
    "k_best_features = 10  # Adjust as needed\n",
    "rfe_num_features = 15  # Adjust as needed\n",
    "\n",
    "# Step 1: Apply different feature selection methods\n",
    "# Method 1: SelectKBest with mutual information\n",
    "skb_mi = SelectKBest(score_func=mutual_info_classif, k=k_best_features)\n",
    "X_skb_mi = skb_mi.fit_transform(X_train, y_train)\n",
    "selected_features_skb_mi = X.columns[skb_mi.get_support(indices=True)]\n",
    "\n",
    "# Method 2: SelectKBest with ANOVA F-value\n",
    "skb_f = SelectKBest(score_func=f_classif, k=k_best_features)\n",
    "X_skb_f = skb_f.fit_transform(X_train, y_train)\n",
    "selected_features_skb_f = X.columns[skb_f.get_support(indices=True)]\n",
    "\n",
    "# Method 3: Recursive Feature Elimination (RFE) with Logistic Regression\n",
    "rfe_lr = RFE(LogisticRegression(), n_features_to_select=rfe_num_features)\n",
    "X_rfe_lr = rfe_lr.fit_transform(X_train, y_train)\n",
    "selected_features_rfe_lr = X.columns[rfe_lr.get_support(indices=True)]\n",
    "\n",
    "# Method 4: Lasso-based feature selection\n",
    "lasso_model = RandomForestClassifier()  # Example classifier for SelectFromModel\n",
    "lasso_selector = SelectFromModel(lasso_model)\n",
    "X_lasso = lasso_selector.fit_transform(X_train, y_train)\n",
    "selected_features_lasso = X.columns[lasso_selector.get_support(indices=True)]\n",
    "\n",
    "# Step 2: Intersect the selected features from different methods\n",
    "selected_features_intersection = set(selected_features_skb_mi) & set(selected_features_skb_f) & \\\n",
    "                                set(selected_features_rfe_lr) & set(selected_features_lasso)\n",
    "\n",
    "# Add high correlated features to the selected features\n",
    "final_selected_features = list(selected_features_intersection.union(high_corr_features))\n",
    "\n",
    "print(\"Final Selected Features:\", final_selected_features)\n",
    "\n"
   ]
  },
  {
   "cell_type": "code",
   "execution_count": 14,
   "id": "df817720",
   "metadata": {
    "execution": {
     "iopub.execute_input": "2024-04-05T21:25:48.715085Z",
     "iopub.status.busy": "2024-04-05T21:25:48.714417Z",
     "iopub.status.idle": "2024-04-05T21:25:48.722392Z",
     "shell.execute_reply": "2024-04-05T21:25:48.721467Z"
    },
    "papermill": {
     "duration": 0.023838,
     "end_time": "2024-04-05T21:25:48.724486",
     "exception": false,
     "start_time": "2024-04-05T21:25:48.700648",
     "status": "completed"
    },
    "tags": []
   },
   "outputs": [
    {
     "data": {
      "text/plain": [
       "Index(['OSLO_cloud_cover', 'OSLO_humidity', 'OSLO_global_radiation',\n",
       "       'OSLO_sunshine', 'OSLO_temp_mean', 'OSLO_temp_min', 'OSLO_temp_max'],\n",
       "      dtype='object')"
      ]
     },
     "execution_count": 14,
     "metadata": {},
     "output_type": "execute_result"
    }
   ],
   "source": [
    "high_corr_features"
   ]
  },
  {
   "cell_type": "code",
   "execution_count": 15,
   "id": "b46769b6",
   "metadata": {
    "execution": {
     "iopub.execute_input": "2024-04-05T21:25:48.749754Z",
     "iopub.status.busy": "2024-04-05T21:25:48.749375Z",
     "iopub.status.idle": "2024-04-05T21:25:48.755248Z",
     "shell.execute_reply": "2024-04-05T21:25:48.754298Z"
    },
    "papermill": {
     "duration": 0.020855,
     "end_time": "2024-04-05T21:25:48.757204",
     "exception": false,
     "start_time": "2024-04-05T21:25:48.736349",
     "status": "completed"
    },
    "tags": []
   },
   "outputs": [
    {
     "data": {
      "text/plain": [
       "Index(['DATE', 'MONTH', 'OSLO_cloud_cover', 'OSLO_humidity',\n",
       "       'OSLO_global_radiation', 'OSLO_precipitation', 'OSLO_sunshine',\n",
       "       'OSLO_temp_mean', 'OSLO_temp_min', 'OSLO_temp_max'],\n",
       "      dtype='object')"
      ]
     },
     "execution_count": 15,
     "metadata": {},
     "output_type": "execute_result"
    }
   ],
   "source": [
    "selected_features_skb_mi"
   ]
  },
  {
   "cell_type": "code",
   "execution_count": 16,
   "id": "653fc0ff",
   "metadata": {
    "execution": {
     "iopub.execute_input": "2024-04-05T21:25:48.783500Z",
     "iopub.status.busy": "2024-04-05T21:25:48.782616Z",
     "iopub.status.idle": "2024-04-05T21:25:48.789540Z",
     "shell.execute_reply": "2024-04-05T21:25:48.788479Z"
    },
    "papermill": {
     "duration": 0.022395,
     "end_time": "2024-04-05T21:25:48.791725",
     "exception": false,
     "start_time": "2024-04-05T21:25:48.769330",
     "status": "completed"
    },
    "tags": []
   },
   "outputs": [
    {
     "data": {
      "text/plain": [
       "Index(['MONTH', 'OSLO_cloud_cover', 'OSLO_humidity', 'OSLO_pressure',\n",
       "       'OSLO_global_radiation', 'OSLO_precipitation', 'OSLO_sunshine',\n",
       "       'OSLO_temp_mean', 'OSLO_temp_min', 'OSLO_temp_max'],\n",
       "      dtype='object')"
      ]
     },
     "execution_count": 16,
     "metadata": {},
     "output_type": "execute_result"
    }
   ],
   "source": [
    "selected_features_skb_f"
   ]
  },
  {
   "cell_type": "code",
   "execution_count": 17,
   "id": "9882e827",
   "metadata": {
    "execution": {
     "iopub.execute_input": "2024-04-05T21:25:48.818317Z",
     "iopub.status.busy": "2024-04-05T21:25:48.817644Z",
     "iopub.status.idle": "2024-04-05T21:25:48.824717Z",
     "shell.execute_reply": "2024-04-05T21:25:48.823699Z"
    },
    "papermill": {
     "duration": 0.022649,
     "end_time": "2024-04-05T21:25:48.826975",
     "exception": false,
     "start_time": "2024-04-05T21:25:48.804326",
     "status": "completed"
    },
    "tags": []
   },
   "outputs": [
    {
     "data": {
      "text/plain": [
       "Index(['DATE', 'MONTH', 'OSLO_cloud_cover', 'OSLO_wind_speed',\n",
       "       'OSLO_wind_gust', 'OSLO_humidity', 'OSLO_pressure',\n",
       "       'OSLO_global_radiation', 'OSLO_precipitation', 'OSLO_sunshine',\n",
       "       'OSLO_temp_mean', 'OSLO_temp_min', 'OSLO_temp_max'],\n",
       "      dtype='object')"
      ]
     },
     "execution_count": 17,
     "metadata": {},
     "output_type": "execute_result"
    }
   ],
   "source": [
    "selected_features_rfe_lr"
   ]
  },
  {
   "cell_type": "code",
   "execution_count": 18,
   "id": "c275dd61",
   "metadata": {
    "execution": {
     "iopub.execute_input": "2024-04-05T21:25:48.908558Z",
     "iopub.status.busy": "2024-04-05T21:25:48.908173Z",
     "iopub.status.idle": "2024-04-05T21:25:48.914522Z",
     "shell.execute_reply": "2024-04-05T21:25:48.913653Z"
    },
    "papermill": {
     "duration": 0.021665,
     "end_time": "2024-04-05T21:25:48.916402",
     "exception": false,
     "start_time": "2024-04-05T21:25:48.894737",
     "status": "completed"
    },
    "tags": []
   },
   "outputs": [
    {
     "data": {
      "text/plain": [
       "Index(['OSLO_global_radiation', 'OSLO_precipitation', 'OSLO_temp_mean',\n",
       "       'OSLO_temp_max'],\n",
       "      dtype='object')"
      ]
     },
     "execution_count": 18,
     "metadata": {},
     "output_type": "execute_result"
    }
   ],
   "source": [
    "selected_features_lasso"
   ]
  },
  {
   "cell_type": "code",
   "execution_count": 19,
   "id": "2af281c7",
   "metadata": {
    "execution": {
     "iopub.execute_input": "2024-04-05T21:25:48.942746Z",
     "iopub.status.busy": "2024-04-05T21:25:48.942412Z",
     "iopub.status.idle": "2024-04-05T21:25:48.948170Z",
     "shell.execute_reply": "2024-04-05T21:25:48.947264Z"
    },
    "papermill": {
     "duration": 0.021117,
     "end_time": "2024-04-05T21:25:48.950029",
     "exception": false,
     "start_time": "2024-04-05T21:25:48.928912",
     "status": "completed"
    },
    "tags": []
   },
   "outputs": [
    {
     "data": {
      "text/plain": [
       "{'OSLO_global_radiation',\n",
       " 'OSLO_precipitation',\n",
       " 'OSLO_temp_max',\n",
       " 'OSLO_temp_mean'}"
      ]
     },
     "execution_count": 19,
     "metadata": {},
     "output_type": "execute_result"
    }
   ],
   "source": [
    "selected_features_intersection"
   ]
  },
  {
   "cell_type": "code",
   "execution_count": 20,
   "id": "5597f6a6",
   "metadata": {
    "execution": {
     "iopub.execute_input": "2024-04-05T21:25:48.976304Z",
     "iopub.status.busy": "2024-04-05T21:25:48.975923Z",
     "iopub.status.idle": "2024-04-05T21:25:48.981789Z",
     "shell.execute_reply": "2024-04-05T21:25:48.981004Z"
    },
    "papermill": {
     "duration": 0.021284,
     "end_time": "2024-04-05T21:25:48.983629",
     "exception": false,
     "start_time": "2024-04-05T21:25:48.962345",
     "status": "completed"
    },
    "tags": []
   },
   "outputs": [
    {
     "data": {
      "text/plain": [
       "['OSLO_global_radiation',\n",
       " 'OSLO_temp_mean',\n",
       " 'OSLO_humidity',\n",
       " 'OSLO_temp_min',\n",
       " 'OSLO_precipitation',\n",
       " 'OSLO_temp_max',\n",
       " 'OSLO_cloud_cover',\n",
       " 'OSLO_sunshine']"
      ]
     },
     "execution_count": 20,
     "metadata": {},
     "output_type": "execute_result"
    }
   ],
   "source": [
    "final_selected_features"
   ]
  },
  {
   "cell_type": "markdown",
   "id": "451ae286",
   "metadata": {
    "papermill": {
     "duration": 0.012194,
     "end_time": "2024-04-05T21:25:49.008303",
     "exception": false,
     "start_time": "2024-04-05T21:25:48.996109",
     "status": "completed"
    },
    "tags": []
   },
   "source": [
    "# Step 8: Define new X and y based on new features"
   ]
  },
  {
   "cell_type": "code",
   "execution_count": 21,
   "id": "35aa1fcf",
   "metadata": {
    "execution": {
     "iopub.execute_input": "2024-04-05T21:25:49.034918Z",
     "iopub.status.busy": "2024-04-05T21:25:49.034500Z",
     "iopub.status.idle": "2024-04-05T21:25:49.053695Z",
     "shell.execute_reply": "2024-04-05T21:25:49.052653Z"
    },
    "papermill": {
     "duration": 0.035064,
     "end_time": "2024-04-05T21:25:49.055938",
     "exception": false,
     "start_time": "2024-04-05T21:25:49.020874",
     "status": "completed"
    },
    "tags": []
   },
   "outputs": [
    {
     "data": {
      "text/html": [
       "<div>\n",
       "<style scoped>\n",
       "    .dataframe tbody tr th:only-of-type {\n",
       "        vertical-align: middle;\n",
       "    }\n",
       "\n",
       "    .dataframe tbody tr th {\n",
       "        vertical-align: top;\n",
       "    }\n",
       "\n",
       "    .dataframe thead th {\n",
       "        text-align: right;\n",
       "    }\n",
       "</style>\n",
       "<table border=\"1\" class=\"dataframe\">\n",
       "  <thead>\n",
       "    <tr style=\"text-align: right;\">\n",
       "      <th></th>\n",
       "      <th>OSLO_global_radiation</th>\n",
       "      <th>OSLO_temp_mean</th>\n",
       "      <th>OSLO_humidity</th>\n",
       "      <th>OSLO_temp_min</th>\n",
       "      <th>OSLO_precipitation</th>\n",
       "      <th>OSLO_temp_max</th>\n",
       "      <th>OSLO_cloud_cover</th>\n",
       "      <th>OSLO_sunshine</th>\n",
       "    </tr>\n",
       "  </thead>\n",
       "  <tbody>\n",
       "    <tr>\n",
       "      <th>0</th>\n",
       "      <td>0.04</td>\n",
       "      <td>-5.0</td>\n",
       "      <td>0.94</td>\n",
       "      <td>-8.6</td>\n",
       "      <td>0.60</td>\n",
       "      <td>-3.2</td>\n",
       "      <td>7</td>\n",
       "      <td>0.0</td>\n",
       "    </tr>\n",
       "    <tr>\n",
       "      <th>1</th>\n",
       "      <td>0.11</td>\n",
       "      <td>-0.8</td>\n",
       "      <td>0.94</td>\n",
       "      <td>-6.7</td>\n",
       "      <td>0.00</td>\n",
       "      <td>2.4</td>\n",
       "      <td>6</td>\n",
       "      <td>1.6</td>\n",
       "    </tr>\n",
       "    <tr>\n",
       "      <th>2</th>\n",
       "      <td>0.04</td>\n",
       "      <td>1.2</td>\n",
       "      <td>0.88</td>\n",
       "      <td>-1.1</td>\n",
       "      <td>0.00</td>\n",
       "      <td>3.8</td>\n",
       "      <td>6</td>\n",
       "      <td>0.0</td>\n",
       "    </tr>\n",
       "    <tr>\n",
       "      <th>3</th>\n",
       "      <td>0.13</td>\n",
       "      <td>2.1</td>\n",
       "      <td>0.58</td>\n",
       "      <td>-0.5</td>\n",
       "      <td>0.00</td>\n",
       "      <td>5.1</td>\n",
       "      <td>1</td>\n",
       "      <td>5.3</td>\n",
       "    </tr>\n",
       "    <tr>\n",
       "      <th>4</th>\n",
       "      <td>0.05</td>\n",
       "      <td>-0.7</td>\n",
       "      <td>0.94</td>\n",
       "      <td>-4.0</td>\n",
       "      <td>0.06</td>\n",
       "      <td>0.5</td>\n",
       "      <td>8</td>\n",
       "      <td>0.0</td>\n",
       "    </tr>\n",
       "    <tr>\n",
       "      <th>...</th>\n",
       "      <td>...</td>\n",
       "      <td>...</td>\n",
       "      <td>...</td>\n",
       "      <td>...</td>\n",
       "      <td>...</td>\n",
       "      <td>...</td>\n",
       "      <td>...</td>\n",
       "      <td>...</td>\n",
       "    </tr>\n",
       "    <tr>\n",
       "      <th>3649</th>\n",
       "      <td>0.16</td>\n",
       "      <td>-10.1</td>\n",
       "      <td>0.88</td>\n",
       "      <td>-11.7</td>\n",
       "      <td>0.00</td>\n",
       "      <td>-5.9</td>\n",
       "      <td>4</td>\n",
       "      <td>4.8</td>\n",
       "    </tr>\n",
       "    <tr>\n",
       "      <th>3650</th>\n",
       "      <td>0.16</td>\n",
       "      <td>-13.1</td>\n",
       "      <td>0.88</td>\n",
       "      <td>-15.1</td>\n",
       "      <td>0.00</td>\n",
       "      <td>-9.1</td>\n",
       "      <td>1</td>\n",
       "      <td>4.9</td>\n",
       "    </tr>\n",
       "    <tr>\n",
       "      <th>3651</th>\n",
       "      <td>0.16</td>\n",
       "      <td>-15.7</td>\n",
       "      <td>0.85</td>\n",
       "      <td>-17.5</td>\n",
       "      <td>0.00</td>\n",
       "      <td>-11.8</td>\n",
       "      <td>0</td>\n",
       "      <td>4.4</td>\n",
       "    </tr>\n",
       "    <tr>\n",
       "      <th>3652</th>\n",
       "      <td>0.11</td>\n",
       "      <td>-10.8</td>\n",
       "      <td>0.88</td>\n",
       "      <td>-16.8</td>\n",
       "      <td>0.02</td>\n",
       "      <td>-8.9</td>\n",
       "      <td>5</td>\n",
       "      <td>1.7</td>\n",
       "    </tr>\n",
       "    <tr>\n",
       "      <th>3653</th>\n",
       "      <td>0.04</td>\n",
       "      <td>-7.7</td>\n",
       "      <td>0.76</td>\n",
       "      <td>-8.9</td>\n",
       "      <td>0.24</td>\n",
       "      <td>-4.9</td>\n",
       "      <td>7</td>\n",
       "      <td>0.0</td>\n",
       "    </tr>\n",
       "  </tbody>\n",
       "</table>\n",
       "<p>3654 rows × 8 columns</p>\n",
       "</div>"
      ],
      "text/plain": [
       "      OSLO_global_radiation  OSLO_temp_mean  OSLO_humidity  OSLO_temp_min  \\\n",
       "0                      0.04            -5.0           0.94           -8.6   \n",
       "1                      0.11            -0.8           0.94           -6.7   \n",
       "2                      0.04             1.2           0.88           -1.1   \n",
       "3                      0.13             2.1           0.58           -0.5   \n",
       "4                      0.05            -0.7           0.94           -4.0   \n",
       "...                     ...             ...            ...            ...   \n",
       "3649                   0.16           -10.1           0.88          -11.7   \n",
       "3650                   0.16           -13.1           0.88          -15.1   \n",
       "3651                   0.16           -15.7           0.85          -17.5   \n",
       "3652                   0.11           -10.8           0.88          -16.8   \n",
       "3653                   0.04            -7.7           0.76           -8.9   \n",
       "\n",
       "      OSLO_precipitation  OSLO_temp_max  OSLO_cloud_cover  OSLO_sunshine  \n",
       "0                   0.60           -3.2                 7            0.0  \n",
       "1                   0.00            2.4                 6            1.6  \n",
       "2                   0.00            3.8                 6            0.0  \n",
       "3                   0.00            5.1                 1            5.3  \n",
       "4                   0.06            0.5                 8            0.0  \n",
       "...                  ...            ...               ...            ...  \n",
       "3649                0.00           -5.9                 4            4.8  \n",
       "3650                0.00           -9.1                 1            4.9  \n",
       "3651                0.00          -11.8                 0            4.4  \n",
       "3652                0.02           -8.9                 5            1.7  \n",
       "3653                0.24           -4.9                 7            0.0  \n",
       "\n",
       "[3654 rows x 8 columns]"
      ]
     },
     "execution_count": 21,
     "metadata": {},
     "output_type": "execute_result"
    }
   ],
   "source": [
    "X=X[final_selected_features]\n",
    "X"
   ]
  },
  {
   "cell_type": "code",
   "execution_count": 22,
   "id": "6b199806",
   "metadata": {
    "execution": {
     "iopub.execute_input": "2024-04-05T21:25:49.083634Z",
     "iopub.status.busy": "2024-04-05T21:25:49.083237Z",
     "iopub.status.idle": "2024-04-05T21:25:49.090053Z",
     "shell.execute_reply": "2024-04-05T21:25:49.089324Z"
    },
    "papermill": {
     "duration": 0.022992,
     "end_time": "2024-04-05T21:25:49.091918",
     "exception": false,
     "start_time": "2024-04-05T21:25:49.068926",
     "status": "completed"
    },
    "tags": []
   },
   "outputs": [
    {
     "data": {
      "text/plain": [
       "0       0\n",
       "1       0\n",
       "2       0\n",
       "3       0\n",
       "4       0\n",
       "       ..\n",
       "3649    0\n",
       "3650    0\n",
       "3651    0\n",
       "3652    0\n",
       "3653    0\n",
       "Name: OSLO_BBQ_weather, Length: 3654, dtype: int64"
      ]
     },
     "execution_count": 22,
     "metadata": {},
     "output_type": "execute_result"
    }
   ],
   "source": [
    "y"
   ]
  },
  {
   "cell_type": "markdown",
   "id": "095b1984",
   "metadata": {
    "papermill": {
     "duration": 0.013665,
     "end_time": "2024-04-05T21:25:49.145703",
     "exception": false,
     "start_time": "2024-04-05T21:25:49.132038",
     "status": "completed"
    },
    "tags": []
   },
   "source": [
    "# Step 9: Train and evaluate models"
   ]
  },
  {
   "cell_type": "code",
   "execution_count": 23,
   "id": "6bbb05ea",
   "metadata": {
    "execution": {
     "iopub.execute_input": "2024-04-05T21:25:49.173972Z",
     "iopub.status.busy": "2024-04-05T21:25:49.172950Z",
     "iopub.status.idle": "2024-04-05T21:26:05.705512Z",
     "shell.execute_reply": "2024-04-05T21:26:05.704217Z"
    },
    "papermill": {
     "duration": 16.549059,
     "end_time": "2024-04-05T21:26:05.707860",
     "exception": false,
     "start_time": "2024-04-05T21:25:49.158801",
     "status": "completed"
    },
    "tags": []
   },
   "outputs": [
    {
     "name": "stderr",
     "output_type": "stream",
     "text": [
      "2024-04-05 21:25:51.144506: E external/local_xla/xla/stream_executor/cuda/cuda_dnn.cc:9261] Unable to register cuDNN factory: Attempting to register factory for plugin cuDNN when one has already been registered\n",
      "2024-04-05 21:25:51.144654: E external/local_xla/xla/stream_executor/cuda/cuda_fft.cc:607] Unable to register cuFFT factory: Attempting to register factory for plugin cuFFT when one has already been registered\n",
      "2024-04-05 21:25:51.293321: E external/local_xla/xla/stream_executor/cuda/cuda_blas.cc:1515] Unable to register cuBLAS factory: Attempting to register factory for plugin cuBLAS when one has already been registered\n"
     ]
    },
    {
     "name": "stdout",
     "output_type": "stream",
     "text": [
      "Accuracy Scores:\n",
      "Logistic Regression: 0.9658002735978112\n",
      "Support Vector Machine: 0.9589603283173734\n",
      "Random Forest: 1.0\n",
      "K-Nearest Neighbors: 0.9343365253077975\n",
      "Gaussian Naive Bayes: 0.9192886456908345\n",
      "Decision Tree: 1.0\n",
      "Artificial Neural Network: 0.9589603543281555\n"
     ]
    }
   ],
   "source": [
    "import pandas as pd\n",
    "from sklearn.model_selection import train_test_split\n",
    "from sklearn.preprocessing import StandardScaler\n",
    "from sklearn.linear_model import LogisticRegression\n",
    "from sklearn.svm import SVC\n",
    "from sklearn.ensemble import RandomForestClassifier\n",
    "from sklearn.neighbors import KNeighborsClassifier\n",
    "from sklearn.naive_bayes import GaussianNB\n",
    "from sklearn.tree import DecisionTreeClassifier\n",
    "from sklearn.metrics import accuracy_score\n",
    "import tensorflow as tf\n",
    "from tensorflow.keras.models import Sequential\n",
    "from tensorflow.keras.layers import Dense, Dropout\n",
    "import warnings\n",
    "\n",
    "# Ignore warnings\n",
    "warnings.filterwarnings(\"ignore\")\n",
    "\n",
    "# Assuming X and y are already defined and preprocessed\n",
    "\n",
    "# Split the data into training and testing sets\n",
    "X_train, X_test, y_train, y_test = train_test_split(X, y, test_size=0.2, random_state=42)\n",
    "\n",
    "# Standardize features\n",
    "scaler = StandardScaler()\n",
    "X_train_scaled = scaler.fit_transform(X_train)\n",
    "X_test_scaled = scaler.transform(X_test)\n",
    "\n",
    "# Define a dictionary of models\n",
    "models = {\n",
    "    'Logistic Regression': LogisticRegression(),\n",
    "    'Support Vector Machine': SVC(),\n",
    "    'Random Forest': RandomForestClassifier(),\n",
    "    'K-Nearest Neighbors': KNeighborsClassifier(),\n",
    "    'Gaussian Naive Bayes': GaussianNB(),\n",
    "    'Decision Tree': DecisionTreeClassifier(),\n",
    "    'Artificial Neural Network': Sequential([\n",
    "        Dense(units=100, activation='relu', input_shape=(X_train_scaled.shape[1],)),\n",
    "        Dropout(0.2),  # Add dropout with a dropout rate of 20%\n",
    "        Dense(units=1, activation='sigmoid')\n",
    "    ])\n",
    "}\n",
    "\n",
    "# Train and evaluate each model\n",
    "results = {}\n",
    "for name, model in models.items():\n",
    "    if isinstance(model, Sequential):  # For TensorFlow models\n",
    "        model.compile(optimizer='adam', loss='binary_crossentropy', metrics=['accuracy'])\n",
    "        model.fit(X_train_scaled, y_train, epochs=20, batch_size=32, verbose=0)\n",
    "        accuracy = model.evaluate(X_test_scaled, y_test, verbose=0)[1]\n",
    "    else:  # For scikit-learn models\n",
    "        model.fit(X_train_scaled, y_train)\n",
    "        y_pred = model.predict(X_test_scaled)\n",
    "        accuracy = accuracy_score(y_test, y_pred)\n",
    "    results[name] = accuracy\n",
    "\n",
    "# Print the results\n",
    "print(\"Accuracy Scores:\")\n",
    "for name, acc in results.items():\n",
    "    print(f\"{name}: {acc}\")\n"
   ]
  },
  {
   "cell_type": "markdown",
   "id": "50fd4c66",
   "metadata": {
    "papermill": {
     "duration": 0.012833,
     "end_time": "2024-04-05T21:26:05.734152",
     "exception": false,
     "start_time": "2024-04-05T21:26:05.721319",
     "status": "completed"
    },
    "tags": []
   },
   "source": [
    "# Step 10: Compare result\n",
    "## Step 10.1: Accuracy Scores"
   ]
  },
  {
   "cell_type": "code",
   "execution_count": 24,
   "id": "191bdcb6",
   "metadata": {
    "execution": {
     "iopub.execute_input": "2024-04-05T21:26:05.762225Z",
     "iopub.status.busy": "2024-04-05T21:26:05.761519Z",
     "iopub.status.idle": "2024-04-05T21:26:06.352507Z",
     "shell.execute_reply": "2024-04-05T21:26:06.351466Z"
    },
    "papermill": {
     "duration": 0.607416,
     "end_time": "2024-04-05T21:26:06.354650",
     "exception": false,
     "start_time": "2024-04-05T21:26:05.747234",
     "status": "completed"
    },
    "tags": []
   },
   "outputs": [
    {
     "data": {
      "image/png": "[encoded data removed]",
      "text/plain": [
       "<Figure size 1000x600 with 1 Axes>"
      ]
     },
     "metadata": {},
     "output_type": "display_data"
    }
   ],
   "source": [
    "import matplotlib.pyplot as plt\n",
    "import seaborn as sns\n",
    "\n",
    "# Define models and their accuracy scores (replace these with your actual results)\n",
    "models = ['Logistic Regression', 'Support Vector Machine', 'Random Forest', 'K-Nearest Neighbors', 'Gaussian Naive Bayes', 'Decision Tree', 'Artificial Neural Network']\n",
    "accuracy_scores = [0.9658, 0.9589, 1.0, 0.9343, 0.9193, 1.0, 0.9767]\n",
    "\n",
    "# Create a bar plot for model comparison\n",
    "plt.figure(figsize=(10, 6))\n",
    "sns.barplot(x=accuracy_scores, y=models, palette='viridis')\n",
    "plt.xlabel('Accuracy Score')\n",
    "plt.title('Model Comparison: Accuracy Scores')\n",
    "plt.show()\n"
   ]
  },
  {
   "cell_type": "markdown",
   "id": "d2f545ba",
   "metadata": {
    "papermill": {
     "duration": 0.013622,
     "end_time": "2024-04-05T21:26:06.382000",
     "exception": false,
     "start_time": "2024-04-05T21:26:06.368378",
     "status": "completed"
    },
    "tags": []
   },
   "source": [
    "# Step 10.2: Correlation Heatmap"
   ]
  },
  {
   "cell_type": "code",
   "execution_count": 25,
   "id": "919fbc55",
   "metadata": {
    "execution": {
     "iopub.execute_input": "2024-04-05T21:26:06.411050Z",
     "iopub.status.busy": "2024-04-05T21:26:06.410264Z",
     "iopub.status.idle": "2024-04-05T21:26:06.766350Z",
     "shell.execute_reply": "2024-04-05T21:26:06.765193Z"
    },
    "papermill": {
     "duration": 0.373104,
     "end_time": "2024-04-05T21:26:06.768679",
     "exception": false,
     "start_time": "2024-04-05T21:26:06.395575",
     "status": "completed"
    },
    "tags": []
   },
   "outputs": [
    {
     "data": {
      "image/png": "[encoded data removed]",
      "text/plain": [
       "<Figure size 1000x800 with 2 Axes>"
      ]
     },
     "metadata": {},
     "output_type": "display_data"
    }
   ],
   "source": [
    "import seaborn as sns\n",
    "import matplotlib.pyplot as plt\n",
    "\n",
    "# Calculate correlation coefficients between features and target\n",
    "correlations = X.corrwith(y)\n",
    "\n",
    "# Create a dataframe for visualization\n",
    "corr_df = pd.DataFrame({'Features': correlations.index, 'Correlation': correlations.values})\n",
    "corr_df = corr_df.set_index('Features')\n",
    "\n",
    "# Plotting the correlation heatmap\n",
    "plt.figure(figsize=(10, 8))\n",
    "sns.heatmap(corr_df, annot=True, cmap='coolwarm', linewidths=.5)\n",
    "plt.title('Correlation Heatmap')\n",
    "plt.show()\n"
   ]
  },
  {
   "cell_type": "markdown",
   "id": "dbfe1a06",
   "metadata": {
    "papermill": {
     "duration": 0.014009,
     "end_time": "2024-04-05T21:26:06.797220",
     "exception": false,
     "start_time": "2024-04-05T21:26:06.783211",
     "status": "completed"
    },
    "tags": []
   },
   "source": [
    "# Step 10.3:feature_importances"
   ]
  },
  {
   "cell_type": "code",
   "execution_count": 26,
   "id": "91b49ebb",
   "metadata": {
    "execution": {
     "iopub.execute_input": "2024-04-05T21:26:06.827456Z",
     "iopub.status.busy": "2024-04-05T21:26:06.827089Z",
     "iopub.status.idle": "2024-04-05T21:26:07.363719Z",
     "shell.execute_reply": "2024-04-05T21:26:07.362690Z"
    },
    "papermill": {
     "duration": 0.554549,
     "end_time": "2024-04-05T21:26:07.365993",
     "exception": false,
     "start_time": "2024-04-05T21:26:06.811444",
     "status": "completed"
    },
    "tags": []
   },
   "outputs": [
    {
     "data": {
      "image/png": "[encoded data removed]",
      "text/plain": [
       "<Figure size 1000x600 with 1 Axes>"
      ]
     },
     "metadata": {},
     "output_type": "display_data"
    }
   ],
   "source": [
    "import matplotlib.pyplot as plt\n",
    "import numpy as np\n",
    "from sklearn.ensemble import RandomForestClassifier\n",
    "\n",
    "# Initialize and train the Random Forest model\n",
    "rf_model = RandomForestClassifier()\n",
    "rf_model.fit(X_train_scaled, y_train)\n",
    "\n",
    "# Get feature importances from the trained model\n",
    "importances = rf_model.feature_importances_\n",
    "\n",
    "# Get feature names\n",
    "feature_names = X.columns\n",
    "\n",
    "# Sort feature importances in descending order\n",
    "indices = np.argsort(importances)[::-1]\n",
    "\n",
    "# Plot the feature importances\n",
    "plt.figure(figsize=(10, 6))\n",
    "plt.title(\"Feature Importance - Random Forest\")\n",
    "plt.bar(range(X.shape[1]), importances[indices], align='center')\n",
    "plt.xticks(range(X.shape[1]), feature_names[indices], rotation=90)\n",
    "plt.xlabel(\"Feature\")\n",
    "plt.ylabel(\"Importance\")\n",
    "plt.tight_layout()\n",
    "plt.show()\n"
   ]
  },
  {
   "cell_type": "markdown",
   "id": "4baf2f00",
   "metadata": {
    "papermill": {
     "duration": 0.014963,
     "end_time": "2024-04-05T21:26:07.396334",
     "exception": false,
     "start_time": "2024-04-05T21:26:07.381371",
     "status": "completed"
    },
    "tags": []
   },
   "source": [
    "# Step 10.4:Confusion Matrix"
   ]
  },
  {
   "cell_type": "code",
   "execution_count": 27,
   "id": "e65b0167",
   "metadata": {
    "execution": {
     "iopub.execute_input": "2024-04-05T21:26:07.428517Z",
     "iopub.status.busy": "2024-04-05T21:26:07.428052Z",
     "iopub.status.idle": "2024-04-05T21:26:10.146661Z",
     "shell.execute_reply": "2024-04-05T21:26:10.145530Z"
    },
    "papermill": {
     "duration": 2.737561,
     "end_time": "2024-04-05T21:26:10.149033",
     "exception": false,
     "start_time": "2024-04-05T21:26:07.411472",
     "status": "completed"
    },
    "tags": []
   },
   "outputs": [
    {
     "data": {
      "image/png": "[encoded data removed]",
      "text/plain": [
       "<Figure size 600x400 with 1 Axes>"
      ]
     },
     "metadata": {},
     "output_type": "display_data"
    },
    {
     "data": {
      "image/png": "[encoded data removed]",
      "text/plain": [
       "<Figure size 600x400 with 1 Axes>"
      ]
     },
     "metadata": {},
     "output_type": "display_data"
    },
    {
     "data": {
      "image/png": "[encoded data removed]",
      "text/plain": [
       "<Figure size 600x400 with 1 Axes>"
      ]
     },
     "metadata": {},
     "output_type": "display_data"
    },
    {
     "data": {
      "image/png": "[encoded data removed]",
      "text/plain": [
       "<Figure size 600x400 with 1 Axes>"
      ]
     },
     "metadata": {},
     "output_type": "display_data"
    },
    {
     "data": {
      "image/png": "[encoded data removed]",
      "text/plain": [
       "<Figure size 600x400 with 1 Axes>"
      ]
     },
     "metadata": {},
     "output_type": "display_data"
    },
    {
     "data": {
      "image/png": "[encoded data removed]",
      "text/plain": [
       "<Figure size 600x400 with 1 Axes>"
      ]
     },
     "metadata": {},
     "output_type": "display_data"
    },
    {
     "name": "stdout",
     "output_type": "stream",
     "text": [
      "\u001b[1m92/92\u001b[0m \u001b[32m━━━━━━━━━━━━━━━━━━━━\u001b[0m\u001b[37m\u001b[0m \u001b[1m1s\u001b[0m 1ms/step - accuracy: 0.8298 - loss: 0.4846\n",
      "\u001b[1m23/23\u001b[0m \u001b[32m━━━━━━━━━━━━━━━━━━━━\u001b[0m\u001b[37m\u001b[0m \u001b[1m0s\u001b[0m 2ms/step \n"
     ]
    },
    {
     "data": {
      "image/png": "[encoded data removed]",
      "text/plain": [
       "<Figure size 600x400 with 1 Axes>"
      ]
     },
     "metadata": {},
     "output_type": "display_data"
    }
   ],
   "source": [
    "import matplotlib.pyplot as plt\n",
    "import seaborn as sns\n",
    "from sklearn.metrics import confusion_matrix\n",
    "from tensorflow.keras.models import Sequential\n",
    "from tensorflow.keras.layers import Dense, Dropout\n",
    "\n",
    "# Initialize models as a dictionary\n",
    "models = {\n",
    "    'Logistic Regression': LogisticRegression(),\n",
    "    'Support Vector Machine': SVC(),\n",
    "    'Random Forest': RandomForestClassifier(),\n",
    "    'K-Nearest Neighbors': KNeighborsClassifier(),\n",
    "    'Gaussian Naive Bayes': GaussianNB(),\n",
    "    'Decision Tree': DecisionTreeClassifier(),\n",
    "    'Artificial Neural Network': Sequential([\n",
    "        Dense(units=100, activation='relu', input_shape=(X_train_scaled.shape[1],)),\n",
    "        Dropout(0.2),  # Add dropout with a dropout rate of 20%\n",
    "        Dense(units=1, activation='sigmoid')\n",
    "    ])\n",
    "}\n",
    "\n",
    "# Train each model and calculate confusion matrix\n",
    "for name, model in models.items():\n",
    "    if name == 'Artificial Neural Network':\n",
    "        # Compile the ANN model\n",
    "        model.compile(optimizer='adam', loss='binary_crossentropy', metrics=['accuracy'])\n",
    "    model.fit(X_train_scaled, y_train)\n",
    "    y_pred = model.predict(X_test_scaled)\n",
    "    \n",
    "    if name == 'Artificial Neural Network':\n",
    "        y_pred = (y_pred > 0.5)  # Convert probabilities to binary predictions\n",
    "    \n",
    "    cm = confusion_matrix(y_test, y_pred)\n",
    "    \n",
    "    # Plot confusion matrix\n",
    "    plt.figure(figsize=(6, 4))\n",
    "    sns.heatmap(cm, annot=True, fmt='d', cmap='Blues', cbar=False)\n",
    "    plt.title(f'Confusion Matrix - {name}')\n",
    "    plt.xlabel('Predicted Label')\n",
    "    plt.ylabel('True Label')\n",
    "    plt.show()\n"
   ]
  },
  {
   "cell_type": "markdown",
   "id": "f6e22502",
   "metadata": {
    "papermill": {
     "duration": 0.017557,
     "end_time": "2024-04-05T21:26:10.184753",
     "exception": false,
     "start_time": "2024-04-05T21:26:10.167196",
     "status": "completed"
    },
    "tags": []
   },
   "source": [
    "# Step 11: Metric Calculation"
   ]
  },
  {
   "cell_type": "code",
   "execution_count": 28,
   "id": "7595c48d",
   "metadata": {
    "execution": {
     "iopub.execute_input": "2024-04-05T21:26:10.231301Z",
     "iopub.status.busy": "2024-04-05T21:26:10.230606Z",
     "iopub.status.idle": "2024-04-05T21:26:13.106074Z",
     "shell.execute_reply": "2024-04-05T21:26:13.105158Z"
    },
    "papermill": {
     "duration": 2.90632,
     "end_time": "2024-04-05T21:26:13.109820",
     "exception": false,
     "start_time": "2024-04-05T21:26:10.203500",
     "status": "completed"
    },
    "tags": []
   },
   "outputs": [
    {
     "data": {
      "image/png": "[encoded data removed]",
      "text/plain": [
       "<Figure size 800x600 with 1 Axes>"
      ]
     },
     "metadata": {},
     "output_type": "display_data"
    },
    {
     "data": {
      "image/png": "[encoded data removed]",
      "text/plain": [
       "<Figure size 800x600 with 1 Axes>"
      ]
     },
     "metadata": {},
     "output_type": "display_data"
    },
    {
     "data": {
      "image/png": "[encoded data removed]",
      "text/plain": [
       "<Figure size 800x600 with 1 Axes>"
      ]
     },
     "metadata": {},
     "output_type": "display_data"
    },
    {
     "data": {
      "image/png": "[encoded data removed]",
      "text/plain": [
       "<Figure size 800x600 with 1 Axes>"
      ]
     },
     "metadata": {},
     "output_type": "display_data"
    },
    {
     "data": {
      "image/png": "[encoded data removed]",
      "text/plain": [
       "<Figure size 800x600 with 1 Axes>"
      ]
     },
     "metadata": {},
     "output_type": "display_data"
    },
    {
     "data": {
      "image/png": "[encoded data removed]",
      "text/plain": [
       "<Figure size 800x600 with 1 Axes>"
      ]
     },
     "metadata": {},
     "output_type": "display_data"
    },
    {
     "name": "stdout",
     "output_type": "stream",
     "text": [
      "\u001b[1m92/92\u001b[0m \u001b[32m━━━━━━━━━━━━━━━━━━━━\u001b[0m\u001b[37m\u001b[0m \u001b[1m1s\u001b[0m 1ms/step - accuracy: 0.9351 - loss: 0.2236\n",
      "\u001b[1m23/23\u001b[0m \u001b[32m━━━━━━━━━━━━━━━━━━━━\u001b[0m\u001b[37m\u001b[0m \u001b[1m0s\u001b[0m 2ms/step \n"
     ]
    },
    {
     "data": {
      "image/png": "[encoded data removed]",
      "text/plain": [
       "<Figure size 800x600 with 1 Axes>"
      ]
     },
     "metadata": {},
     "output_type": "display_data"
    }
   ],
   "source": [
    "from sklearn.metrics import confusion_matrix, precision_score, recall_score, f1_score\n",
    "\n",
    "\n",
    "# Train each model and calculate confusion matrix\n",
    "for name, model in models.items():\n",
    "    if name == 'Artificial Neural Network':\n",
    "        # Compile the ANN model\n",
    "        model.compile(optimizer='adam', loss='binary_crossentropy', metrics=['accuracy'])\n",
    "    model.fit(X_train_scaled, y_train)\n",
    "    y_pred = model.predict(X_test_scaled)\n",
    "    \n",
    "    if name == 'Artificial Neural Network':\n",
    "        y_pred = (y_pred > 0.5)  # Convert probabilities to binary predictions\n",
    "    \n",
    "    cm = confusion_matrix(y_test, y_pred)\n",
    "    precision = precision_score(y_test, y_pred)\n",
    "    recall = recall_score(y_test, y_pred)\n",
    "    f1 = f1_score(y_test, y_pred)\n",
    "    \n",
    "    # Plot confusion matrix with additional metrics annotations\n",
    "    plt.figure(figsize=(8, 6))\n",
    "    sns.heatmap(cm, annot=True, fmt='d', cmap='Blues', cbar=False,\n",
    "                xticklabels=['Predicted Negative', 'Predicted Positive'],\n",
    "                yticklabels=['Actual Negative', 'Actual Positive'])\n",
    "    plt.title(f'Confusion Matrix - {name}\\nPrecision: {precision:.4f}, Recall: {recall:.4f}, F1 Score: {f1:.4f}')\n",
    "    plt.xlabel('Predicted Label')\n",
    "    plt.ylabel('True Label')\n",
    "    plt.show()\n"
   ]
  }
 ],
 "metadata": {
  "kaggle": {
   "accelerator": "none",
   "dataSources": [
    {
     "datasetId": 2459900,
     "sourceId": 7809995,
     "sourceType": "datasetVersion"
    }
   ],
   "dockerImageVersionId": 30673,
   "isGpuEnabled": false,
   "isInternetEnabled": true,
   "language": "python",
   "sourceType": "notebook"
  },
  "kernelspec": {
   "display_name": "Python 3 (ipykernel)",
   "language": "python",
   "name": "python3"
  },
  "language_info": {
   "codemirror_mode": {
    "name": "ipython",
    "version": 3
   },
   "file_extension": ".py",
   "mimetype": "text/x-python",
   "name": "python",
   "nbconvert_exporter": "python",
   "pygments_lexer": "ipython3",
   "version": "3.9.12"
  },
  "papermill": {
   "default_parameters": {},
   "duration": 32.575507,
   "end_time": "2024-04-05T21:26:14.721211",
   "environment_variables": {},
   "exception": null,
   "input_path": "__notebook__.ipynb",
   "output_path": "__notebook__.ipynb",
   "parameters": {},
   "start_time": "2024-04-05T21:25:42.145704",
   "version": "2.5.0"
  }
 },
 "nbformat": 4,
 "nbformat_minor": 5
}
